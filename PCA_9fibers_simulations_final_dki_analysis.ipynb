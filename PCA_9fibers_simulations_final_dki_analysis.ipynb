{
 "cells": [
  {
   "cell_type": "markdown",
   "metadata": {},
   "source": [
    "In this notebook you can reproduce the simulation figures to test the PCA denoising algorithm in a 9 fiber phantom with uncorrelated noise. Here, results are plotted for two quantities reconstructed using the diffusional kurtosis imaging model (DKI)."
   ]
  },
  {
   "cell_type": "markdown",
   "metadata": {},
   "source": [
    "Let's import the relevant modules for these simulations."
   ]
  },
  {
   "cell_type": "code",
   "execution_count": 1,
   "metadata": {},
   "outputs": [],
   "source": [
    "import numpy as np\n",
    "import math as mt\n",
    "import matplotlib\n",
    "import matplotlib.pyplot as plt\n",
    "\n",
    "from scipy.linalg import eigh\n",
    "from scipy.ndimage.filters import gaussian_filter\n",
    "\n",
    "import dipy.reconst.dki as dki\n",
    "from dipy.core.sphere import disperse_charges, HemiSphere\n",
    "from dipy.data import get_sphere, get_fnames\n",
    "from dipy.core.gradients import gradient_table\n",
    "\n",
    "from dipy.sims.voxel import (multi_tensor, _add_gaussian, _add_rician,\n",
    "                             _add_rayleigh)"
   ]
  },
  {
   "cell_type": "markdown",
   "metadata": {},
   "source": [
    "The cells below contains the new parts of the code produced for this project, including:\n",
    "\n",
    "<ins>1) Functions to assess the performance of denoising </ins>"
   ]
  },
  {
   "cell_type": "code",
   "execution_count": 2,
   "metadata": {},
   "outputs": [],
   "source": [
    "def mp_distribution(x, var, y):\n",
    "    \"\"\" Samples the Marchenko–Pastur probability distribution\n",
    "    Parameters\n",
    "    ----------\n",
    "    x : array (N,)\n",
    "        Values of random variable to sample the probability distribution\n",
    "    var : float\n",
    "        Variance of the random variable\n",
    "    y : float\n",
    "        Parameter associated to the matrix X that produces the distributions.\n",
    "        This X is a M x N random matrix which columns entries are identical\n",
    "        distributed random variables with mean 0 and given variance, y is given\n",
    "        by N/M.\n",
    "    \"\"\"\n",
    "    xpos = var * (1 + np.sqrt(y)) ** 2\n",
    "    xneg = var * (1 - np.sqrt(y)) ** 2\n",
    "\n",
    "    p = np.zeros(x.shape)\n",
    "    xdis = np.logical_and(x<xpos, x>xneg)\n",
    "    p[xdis] = np.sqrt((xpos-x[xdis]) * (x[xdis]-xneg)) / (2*np.pi*var*y*x[xdis])\n",
    "    if np.sum(p) == 0:\n",
    "        return p\n",
    "    else:\n",
    "        return p / np.sum(p)\n",
    "\n",
    "    \n",
    "def _pca_classifier(L, nvoxels):\n",
    "    \"\"\" Classifies which PCA eigenvalues are related to noise and estimates the\n",
    "    noise variance\n",
    "    Parameters\n",
    "    ----------\n",
    "    L : array (n,)\n",
    "        Array containing the PCA eigenvalues in ascending order.\n",
    "    nvoxels : int\n",
    "        Number of voxels used to compute L\n",
    "    Returns\n",
    "    -------\n",
    "    var : float\n",
    "        Estimation of the noise variance\n",
    "    ncomps : int\n",
    "        Number of eigenvalues related to noise\n",
    "    Notes\n",
    "    -----\n",
    "    This is based on the algorithm described in [1]_.\n",
    "    References\n",
    "    ----------\n",
    "    .. [1] Veraart J, Novikov DS, Christiaens D, Ades-aron B, Sijbers,\n",
    "           Fieremans E, 2016. Denoising of Diffusion MRI using random matrix\n",
    "           theory. Neuroimage 142:394-406.\n",
    "           doi: 10.1016/j.neuroimage.2016.08.016\n",
    "    \"\"\"\n",
    "    var = np.mean(L)\n",
    "    c = L.size - 1\n",
    "    r = L[c] - L[0] - 4 * np.sqrt((L.size) / nvoxels) * var\n",
    "    while r > 0:\n",
    "        var = np.mean(L[:c])\n",
    "        c = c - 1\n",
    "        sig_mp = (L[c] - L[0]) / (4 * np.sqrt((c + 1.0) / nvoxels)) \n",
    "        r =  sig_mp - var\n",
    "    ncomps = c + 1\n",
    "    return var, ncomps\n",
    "\n",
    "\n",
    "def _gpca_classifier(L, varest):\n",
    "    \"\"\" Classifies which PCA eigenvalues are related to noise and estimates the\n",
    "    noise variance\n",
    "\n",
    "    Parameters\n",
    "    ----------\n",
    "    L : array (n,)\n",
    "        Array containing the PCA eigenvalues in ascending order.\n",
    "    nvoxels : int\n",
    "        Number of voxels used to compute L\n",
    "    varest : float\n",
    "        Variance prior estimate (if you don't have this you cannot use this method)\n",
    "\n",
    "    Returns\n",
    "    -------\n",
    "    var : float\n",
    "        Estimation of the noise variance\n",
    "    ncomps : int\n",
    "        Number of eigenvalues related to noise\n",
    "\n",
    "    Notes\n",
    "    -----\n",
    "    This is based on the algorithm described in [2]_.\n",
    "    \n",
    "    References\n",
    "    ----------\n",
    "    .. [2] Henriques et al. 2023\n",
    "    \"\"\"\n",
    "    var = np.mean(L)\n",
    "    c = L.size - 1\n",
    "    while var > varest:\n",
    "        var = np.mean(L[:c])\n",
    "        c = c - 1\n",
    "    ncomps = c + 1\n",
    "    return var, ncomps\n",
    "\n",
    "\n",
    "def _tpca_classifier(L, varest, tau_factor):\n",
    "    \"\"\" Classifies which PCA eigenvalues are related to noise and estimates the\n",
    "    noise variance\n",
    "\n",
    "    Parameters\n",
    "    ----------\n",
    "    L : array (n,)\n",
    "        Array containing the PCA eigenvalues in ascending order.\n",
    "    nvoxels : int\n",
    "        Number of voxels used to compute L\n",
    "    varest : float\n",
    "        Variance prior estimate (if you don't have this you cannot use this method)\n",
    "\n",
    "    Returns\n",
    "    -------\n",
    "    var : float\n",
    "        Estimation of the noise variance\n",
    "    ncomps : int\n",
    "        Number of eigenvalues related to noise\n",
    "\n",
    "    Notes\n",
    "    -----\n",
    "    This is based on the algorithm described in [2]_.\n",
    "    \n",
    "    References\n",
    "    ----------\n",
    "    .. [2] Henriques et al. 2023\n",
    "    \"\"\"\n",
    "    tau = tau_factor ** 2 * varest\n",
    "    ncomps = np.sum(L < tau)\n",
    "    var = np.mean(L[:ncomps])\n",
    "\n",
    "    return var, ncomps\n",
    "\n",
    "\n",
    "def _pca_classifier_code(L, nvoxels):\n",
    "    \"\"\" Classifies which PCA eigenvalues are related to noise and estimates the\n",
    "    noise variance\n",
    "    Parameters\n",
    "    ----------\n",
    "    L : array (n,)\n",
    "        Array containing the PCA eigenvalues in ascending order.\n",
    "    nvoxels : int\n",
    "        Number of voxels used to compute L\n",
    "    Returns\n",
    "    -------\n",
    "    var : float\n",
    "        Estimation of the noise variance\n",
    "    ncomps : int\n",
    "        Number of eigenvalues related to noise\n",
    "    Notes\n",
    "    -----\n",
    "    This is based on the algorithm described in [1]_.\n",
    "    References\n",
    "    ----------\n",
    "    .. [1] Veraart J, Novikov DS, Christiaens D, Ades-aron B, Sijbers,\n",
    "           Fieremans E, 2016. Denoising of Diffusion MRI using random matrix\n",
    "           theory. Neuroimage 142:394-406.\n",
    "           doi: 10.1016/j.neuroimage.2016.08.016\n",
    "    \"\"\"\n",
    "    rang = np.zeros(L.shape)\n",
    "    sig2 = np.zeros(L.shape)\n",
    "    for c in range(1, L.size+1):\n",
    "        var = np.mean(L[:c])\n",
    "        c = c - 1\n",
    "        rang[c] = L[c] - L[0] \n",
    "        #sig2[c] =  4 * np.sqrt((c + 1.0) / nvoxels) * var\n",
    "        sig2[c] =  (L[c] - L[0])/(4 * np.sqrt((L.size) / nvoxels))\n",
    "        sig2[c] =  (L[c] - L[0])/(4 * np.sqrt((c + 1.0) / nvoxels))\n",
    "    return var, sig2\n",
    "\n",
    "\n",
    "def _pca_classifier_code2(L, nvoxels):\n",
    "    \"\"\" Classifies which PCA eigenvalues are related to noise and estimates the\n",
    "    noise variance\n",
    "    Parameters\n",
    "    ----------\n",
    "    L : array (n,)\n",
    "        Array containing the PCA eigenvalues in ascending order.\n",
    "    nvoxels : int\n",
    "        Number of voxels used to compute L\n",
    "    Returns\n",
    "    -------\n",
    "    var : float\n",
    "        Estimation of the noise variance\n",
    "    ncomps : int\n",
    "        Number of eigenvalues related to noise\n",
    "    Notes\n",
    "    -----\n",
    "    This is based on the algorithm described in [1]_.\n",
    "    References\n",
    "    ----------\n",
    "    .. [1] Veraart J, Novikov DS, Christiaens D, Ades-aron B, Sijbers,\n",
    "           Fieremans E, 2016. Denoising of Diffusion MRI using random matrix\n",
    "           theory. Neuroimage 142:394-406.\n",
    "           doi: 10.1016/j.neuroimage.2016.08.016\n",
    "    \"\"\"\n",
    "    sig2_w = np.zeros(L.shape)\n",
    "    sig2_m = np.zeros(L.shape)\n",
    "    for c in range(1, L.size+1):\n",
    "        var = np.mean(L[:c])  #RHS\n",
    "        c = c - 1\n",
    "        sig2_w[c] = (L[c] - L[0]) / (4 * np.sqrt((c + 1.0) / nvoxels))\n",
    "        sig2_m[c] = var\n",
    "    return sig2_m, sig2_w\n",
    "\n",
    "\n",
    "\n",
    "def _pca_matrix(X, sig2=None, pca_method='eig', tau_factor=None):\n",
    "    \"\"\" Helper function to perform PCA-denoising of a 2D matrix\n",
    "\n",
    "    Parameters\n",
    "    ----------\n",
    "    X : 2D array (m, n)\n",
    "        2D matrix to denoise\n",
    "\n",
    "    Returns\n",
    "    -------\n",
    "    Xd : 2D array (m, n)\n",
    "        Denoised 2D matrix\n",
    "\n",
    "    Notes\n",
    "    -----\n",
    "    If sigma is None it used MPPCA\n",
    "    If sigma and tau_factor is given, it used threshold approach\n",
    "    If sigma is given but not tau_factor, it uses the TPCA approach\n",
    "    \n",
    "    \"\"\"\n",
    "    n = X.shape[1]\n",
    "    m = X.shape[0]\n",
    "    X0 = X.copy()\n",
    "\n",
    "    if pca_method.lower() == 'svd':\n",
    "        is_svd = True\n",
    "    else:\n",
    "        is_svd = False\n",
    "    \n",
    "    M = np.mean(X0, axis=0)\n",
    "    X0 = X0 - M\n",
    "\n",
    "    if is_svd:\n",
    "        # PCA using an SVD\n",
    "        U, S, Vt = svd(X0, *svd_args)[:3]\n",
    "        # Items in S are the eigenvalues, but in ascending order\n",
    "        # We invert the order (=> descending), square and normalize\n",
    "        # \\lambda_i = s_i^2 / n\n",
    "        d = S[::-1] ** 2 / X.shape[0]\n",
    "        # Rows of Vt are eigenvectors, but also in ascending\n",
    "        # eigenvalue order:\n",
    "        W = Vt[::-1].T\n",
    "\n",
    "    else:\n",
    "        # PCA using an Eigenvalue decomposition\n",
    "        C = np.transpose(X0).dot(X0)\n",
    "        C = C / X.shape[0]\n",
    "        [d, W] = eigh(C, turbo=True)\n",
    "\n",
    "    if sig2 is None:\n",
    "        # Random matrix theory\n",
    "        this_var, ncomps = _pca_classifier(d, m)\n",
    "        \n",
    "    else:\n",
    "        # Predefined variance\n",
    "        this_var = sig2\n",
    "        if tau_factor is None:\n",
    "            this_var, ncomps = _gpca_classifier(d, this_var)\n",
    "        else:\n",
    "            # tau_factor = 1 + np.sqrt(n / m)\n",
    "            tau = tau_factor ** 2 * this_var\n",
    "            # Update ncomps according to tau_factor\n",
    "            ncomps = np.sum(d < tau)\n",
    "\n",
    "    W[:, :ncomps] = 0\n",
    "\n",
    "    # This is equations 1 and 2 in Manjon 2013:\n",
    "    Xd = X0.dot(W).dot(W.T) + M\n",
    "\n",
    "    return Xd, ncomps"
   ]
  },
  {
   "cell_type": "markdown",
   "metadata": {},
   "source": [
    "<ins> 2) Functions to produce data phantom </ins>"
   ]
  },
  {
   "cell_type": "code",
   "execution_count": 3,
   "metadata": {},
   "outputs": [],
   "source": [
    "def fib3_phantom_9comps(gtab, snr=None, noise_type='G', N=30):\n",
    "    \"\"\"Phantom with three orthogonal fibers\"\"\"\n",
    "\n",
    "    xa = int(1/3 * N)\n",
    "    \n",
    "    # sampled 9 directions\n",
    "    n_pts = 9\n",
    "    #theta = np.pi * np.random.rand(n_pts)\n",
    "    #phi = 2 * np.pi * np.random.rand(n_pts)\n",
    "    #hsph_initial = HemiSphere(theta=theta, phi=phi)\n",
    "    #hsph_updated, potential = disperse_charges(hsph_initial, 5000)\n",
    "    #directions = hsph_updated.vertices\n",
    "    \n",
    "    directions = np.array([[0.9991, -0.0357, -0.0242],\n",
    "                           [-0.0034, 0.5586, -0.8294],\n",
    "                           [0.0427, 0.8323, 0.5527],\n",
    "                           [0.0278, 0.9809, -0.1923],\n",
    "                           [0.7252, 0.6711, -0.1538],\n",
    "                           [0.7303, 0.1161, 0.6732],\n",
    "                           [-0.0328, -0.1969, -0.9799],\n",
    "                           [0.6842, -0.1635, -0.7107],\n",
    "                           [0.6860, -0.7182, 0.1171]])\n",
    "    \n",
    "    # define voxel index\n",
    "    slice_ind = np.zeros((N, N))\n",
    "    slice_ind[0:xa, 0:xa] = 0\n",
    "    slice_ind[0:xa, xa:2*xa] = 1\n",
    "    slice_ind[0:xa, 2*xa:3*xa] = 2\n",
    "    slice_ind[xa:2*xa, 0:xa] = 3\n",
    "    slice_ind[xa:2*xa, xa:2*xa] = 4\n",
    "    slice_ind[xa:2*xa, 2*xa:3*xa] = 5\n",
    "    slice_ind[2*xa:3*xa, 0:xa] = 6\n",
    "    slice_ind[2*xa:3*xa, xa:2*xa] = 7\n",
    "    slice_ind[2*xa:3*xa, 2*xa:3*xa] = 8\n",
    "\n",
    "    # Define tisse diffusion parameters\n",
    "    # Restricted diffusion\n",
    "    ADr = 1.8e-3\n",
    "    RDr = 0.0\n",
    "    # Hindered diffusion\n",
    "    ADh = 1.5e-3\n",
    "    RDh = 0.5e-3\n",
    "\n",
    "    # Fraction between Restricted and Hindered diffusion (in index order)\n",
    "    f = np.array([0.1, 0.2, 0.3,\n",
    "                  0.4, 0.5, 0.6,\n",
    "                  0.7, 0.8, 0.9])\n",
    "\n",
    "    # produce signals according to multi-tensor code\n",
    "    mevals = np.array([[ADr, RDr, RDr], [ADh, RDh, RDh]])\n",
    "    axyz = directions\n",
    "    DWI = np.zeros((N, N, gtab.bvals.size))\n",
    "    for vi in range(9):\n",
    "        fractions = [f[vi]*100, (1-f[vi])*100]\n",
    "        sig, direction = multi_tensor(gtab, mevals, angles=[axyz[vi], axyz[vi]],\n",
    "                                      fractions=fractions, snr=None)\n",
    "        DWI[slice_ind == vi, :] = sig\n",
    "        #print([axyz[vi], axyz[vi]])\n",
    "\n",
    "    if snr is None:\n",
    "        return DWI\n",
    "    else:\n",
    "        noise_adder = {'gaussian': _add_gaussian,\n",
    "                       'rician': _add_rician,\n",
    "                       'rayleigh': _add_rayleigh}\n",
    "        \n",
    "        sigma = 1.0 /snr\n",
    "        n1 = np.random.normal(0, sigma, size=DWI.shape)\n",
    "        if noise_type == 'gaussian':\n",
    "            n2 = None\n",
    "        else:\n",
    "            n2 = np.random.normal(0, sigma, size=DWI.shape)\n",
    "\n",
    "        return noise_adder[noise_type](DWI, n1, n2)"
   ]
  },
  {
   "cell_type": "markdown",
   "metadata": {},
   "source": [
    "<ins> 3) Functions to corrupt phantom with spatially uncorrelated noise </ins>"
   ]
  },
  {
   "cell_type": "code",
   "execution_count": 4,
   "metadata": {},
   "outputs": [],
   "source": [
    "def add_noise_phantom(Phantom, snr=None, noise_type='gaussian'):\n",
    "    if snr is None:\n",
    "        return Phantom\n",
    "    else:\n",
    "        S1 = 1\n",
    "\n",
    "        noise_adder = {'gaussian': _add_gaussian,\n",
    "                       'rician': _add_rician,\n",
    "                       'rayleigh': _add_rayleigh}\n",
    "        \n",
    "        sigma = S1 * 1.0 /snr\n",
    "        n1 = np.random.normal(0, sigma, size=Phantom.shape)\n",
    "        if noise_type == 'gaussian':\n",
    "            n2 = None\n",
    "        else:\n",
    "            n2 = np.random.normal(0, sigma, size=Phantom.shape)\n",
    "\n",
    "        return noise_adder[noise_type](Phantom, n1, n2)   "
   ]
  },
  {
   "cell_type": "markdown",
   "metadata": {},
   "source": [
    "<ins> 4) Functions to add spatial correlations </ins>"
   ]
  },
  {
   "cell_type": "code",
   "execution_count": 5,
   "metadata": {},
   "outputs": [],
   "source": [
    "def smooth(data, gauss_std):\n",
    "    data_smooth = np.zeros(data.shape)\n",
    "    for v in range(data.shape[-1]):\n",
    "        data_smooth[..., v] = gaussian_filter(data[..., v], sigma=gauss_std)\n",
    "    return data_smooth\n",
    "\n",
    "def zero_fill(dwi, nz):\n",
    "    nvol = dwi.shape\n",
    "    nvo = nvol[2]\n",
    "    for jj in range(nvo):\n",
    "        c = np.fft.fft2(dwi[:, :, jj])\n",
    "        c = np.fft.fftshift(c)\n",
    "        # if you want to add zero filling in all image boundaries\n",
    "        # you can uncomment lines of code below\n",
    "        #c[:, :nz] = 0\n",
    "        c[(-nz-1):, :] = 0 \n",
    "        # c[:nz, :] = 0\n",
    "        #c[:, (-nz-1):] = 0 \n",
    "        dwi[:, :, jj] = abs(np.fft.ifft2(c))\n",
    "    return dwi"
   ]
  },
  {
   "cell_type": "markdown",
   "metadata": {},
   "source": [
    "# Simulation settings\n",
    "\n",
    "In the cell below you can change the settings of different parameters of the simulations. Example you can change: 1) the simulations SNR of the initial raw data; 2) method two generated spatiaaly correlated noise (if corrupt == 1 spatially correlated noise is generated by smoothing the noisy and ground truth data, if corrupt == 2 spatially correlated noise is generated by zero-filling the noisy and ground truth data)"
   ]
  },
  {
   "cell_type": "code",
   "execution_count": 6,
   "metadata": {},
   "outputs": [],
   "source": [
    "snr = 30\n",
    "N = 12  # dimension of the phantom will be NxN\n",
    "\n",
    "# If gaussian==false, Rician noise is used\n",
    "gaussian = True\n",
    "\n",
    "# corrupt 1 noise is spatial correlated by adding smoothing to noise corrupted phantoms\n",
    "# corrupt 2 noise is spatial correlated by adding zero filling\n",
    "corrupt = 2\n",
    "zf = int(N/4)  # number of voxels for zero-filling corruption \n",
    "gauss_std = 0.6 # std of Gaussian kernel for gaussian noise corruption"
   ]
  },
  {
   "cell_type": "markdown",
   "metadata": {},
   "source": [
    "Initialize seed so that random instances are reproducible when reruning the notebook again.\n",
    "If you are interested in assessing the generality of the results for other noise instances, you can just ignore this command line."
   ]
  },
  {
   "cell_type": "code",
   "execution_count": 7,
   "metadata": {},
   "outputs": [],
   "source": [
    "np.random.seed(10)"
   ]
  },
  {
   "cell_type": "markdown",
   "metadata": {},
   "source": [
    "# Simulate acquisition parameters"
   ]
  },
  {
   "cell_type": "markdown",
   "metadata": {},
   "source": [
    "Signals are generated for 110 different sets of single diffusion encoding (SDE), comprising 20 b-value=0 experiments and 30 gradient directions for b-values 1000, 2000, and 3000 s/mm2"
   ]
  },
  {
   "cell_type": "code",
   "execution_count": 8,
   "metadata": {},
   "outputs": [],
   "source": [
    "# Sample the spherical cordinates of 30 evenly distributed\n",
    "# diffusion-weighted directions\n",
    "n_pts = 30\n",
    "theta = np.pi * np.random.rand(n_pts)\n",
    "phi = 2 * np.pi * np.random.rand(n_pts)\n",
    "hsph_initial = HemiSphere(theta=theta, phi=phi)\n",
    "hsph_updated, potential = disperse_charges(hsph_initial, 5000)\n",
    "V = hsph_updated.vertices\n",
    "\n",
    "# Reconstruct acquisition parameters for 20 b0s and 45 directions for b=1000 and 2000\n",
    "bvals = np.hstack((np.zeros(20), 1000 * np.ones(n_pts), 2000 * np.ones(n_pts), 3000 * np.ones(n_pts)))\n",
    "bvecs = np.vstack((np.zeros((20, 3)), V, V, V))\n",
    "\n",
    "# Generate a object containing the information of b-values and gradient directions\n",
    "# (using the same format used in Dipy)\n",
    "gtab = gradient_table(bvals, bvecs)"
   ]
  },
  {
   "cell_type": "markdown",
   "metadata": {},
   "source": [
    "### Define DKI model"
   ]
  },
  {
   "cell_type": "code",
   "execution_count": 9,
   "metadata": {},
   "outputs": [],
   "source": [
    "dkim = dki.DiffusionKurtosisModel(gtab)"
   ]
  },
  {
   "cell_type": "markdown",
   "metadata": {},
   "source": [
    "### Ground truth Phantom\n",
    "\n",
    "Let first generate ground truth phantoms"
   ]
  },
  {
   "cell_type": "code",
   "execution_count": 10,
   "metadata": {},
   "outputs": [],
   "source": [
    "# Ground truth for uncorrelated noise\n",
    "DWI = fib3_phantom_9comps(gtab, N=N)\n",
    "\n",
    "# Ground truth for correlated noise\n",
    "if corrupt == 1:\n",
    "    DWIc = smooth(DWI.copy(), gauss_std)\n",
    "else:\n",
    "    DWIc = zero_fill(DWI.copy(), zf)\n",
    "\n",
    "m = DWI.shape[0] * DWI.shape[1]"
   ]
  },
  {
   "cell_type": "markdown",
   "metadata": {},
   "source": [
    "Let's fit DKI"
   ]
  },
  {
   "cell_type": "code",
   "execution_count": 11,
   "metadata": {},
   "outputs": [],
   "source": [
    "dkifu = dkim.fit(DWI)\n",
    "dkifc = dkim.fit(DWIc)"
   ]
  },
  {
   "cell_type": "markdown",
   "metadata": {},
   "source": [
    "Below, I am showing the ground truth phantom MK and FA for spatially uncorrelated noise "
   ]
  },
  {
   "cell_type": "code",
   "execution_count": 12,
   "metadata": {
    "scrolled": true
   },
   "outputs": [
    {
     "data": {
      "image/png": "[encoded data removed]",
      "text/plain": [
       "<Figure size 504x360 with 2 Axes>"
      ]
     },
     "metadata": {
      "needs_background": "light"
     },
     "output_type": "display_data"
    },
    {
     "data": {
      "image/png": "[encoded data removed]",
      "text/plain": [
       "<Figure size 504x360 with 2 Axes>"
      ]
     },
     "metadata": {
      "needs_background": "light"
     },
     "output_type": "display_data"
    }
   ],
   "source": [
    "FA = dkifu.fa\n",
    "MK = dkifu.mk()\n",
    "FAgt_unc = FA\n",
    "MKgt_unc = MK\n",
    "\n",
    "fig = plt.figure(figsize=(7, 5))\n",
    "plt.subplot(1, 1, 1)\n",
    "ec = plt.imshow(MK[:, :], cmap=\"gray\", vmin=0, vmax=2.25)\n",
    "\n",
    "plt.colorbar(ec)\n",
    "\n",
    "ax = plt.gca()\n",
    "\n",
    "ax.set_xticklabels([])\n",
    "ax.set_yticklabels([])\n",
    "ax.set_xticks([])\n",
    "ax.set_yticks([])\n",
    "\n",
    "ax.set_xticks(np.arange(-.5, N, 1), minor=True)\n",
    "ax.set_yticks(np.arange(-.5, N, 1), minor=True)\n",
    "\n",
    "ax.grid(which='minor', color='black', linestyle='-', linewidth=0.8)\n",
    "\n",
    "\n",
    "fig = plt.figure(figsize=(7, 5))\n",
    "plt.subplot(1, 1, 1)\n",
    "ec = plt.imshow(FA[:, :], cmap=\"gray\", vmin=0.5, vmax=1)\n",
    "\n",
    "plt.colorbar(ec)\n",
    "\n",
    "ax = plt.gca()\n",
    "\n",
    "ax.set_xticklabels([])\n",
    "ax.set_yticklabels([])\n",
    "ax.set_xticks([])\n",
    "ax.set_yticks([])\n",
    "\n",
    "ax.set_xticks(np.arange(-.5, N, 1), minor=True)\n",
    "ax.set_yticks(np.arange(-.5, N, 1), minor=True)\n",
    "\n",
    "ax.grid(which='minor', color='black', linestyle='-', linewidth=0.8)"
   ]
  },
  {
   "cell_type": "markdown",
   "metadata": {},
   "source": [
    "Below, I am showing the ground truth phantom for spatially correlated noise "
   ]
  },
  {
   "cell_type": "code",
   "execution_count": 13,
   "metadata": {},
   "outputs": [
    {
     "data": {
      "image/png": "[encoded data removed]",
      "text/plain": [
       "<Figure size 504x360 with 2 Axes>"
      ]
     },
     "metadata": {
      "needs_background": "light"
     },
     "output_type": "display_data"
    },
    {
     "data": {
      "image/png": "[encoded data removed]",
      "text/plain": [
       "<Figure size 504x360 with 2 Axes>"
      ]
     },
     "metadata": {
      "needs_background": "light"
     },
     "output_type": "display_data"
    }
   ],
   "source": [
    "FA = dkifc.fa\n",
    "MK = dkifc.mk()\n",
    "FAgt_cor = FA\n",
    "MKgt_cor = MK\n",
    "\n",
    "fig = plt.figure(figsize=(7, 5))\n",
    "plt.subplot(1, 1, 1)\n",
    "ec = plt.imshow(MK[:, :], cmap=\"gray\", vmin=0, vmax=2.25)\n",
    "\n",
    "plt.colorbar(ec)\n",
    "\n",
    "ax = plt.gca()\n",
    "\n",
    "ax.set_xticklabels([])\n",
    "ax.set_yticklabels([])\n",
    "ax.set_xticks([])\n",
    "ax.set_yticks([])\n",
    "\n",
    "ax.set_xticks(np.arange(-.5, N, 1), minor=True)\n",
    "ax.set_yticks(np.arange(-.5, N, 1), minor=True)\n",
    "\n",
    "ax.grid(which='minor', color='black', linestyle='-', linewidth=0.8)\n",
    "\n",
    "\n",
    "fig = plt.figure(figsize=(7, 5))\n",
    "plt.subplot(1, 1, 1)\n",
    "ec = plt.imshow(FA[:, :], cmap=\"gray\", vmin=0.5, vmax=1)\n",
    "\n",
    "plt.colorbar(ec)\n",
    "\n",
    "ax = plt.gca()\n",
    "\n",
    "ax.set_xticklabels([])\n",
    "ax.set_yticklabels([])\n",
    "ax.set_xticks([])\n",
    "ax.set_yticks([])\n",
    "\n",
    "ax.set_xticks(np.arange(-.5, N, 1), minor=True)\n",
    "ax.set_yticks(np.arange(-.5, N, 1), minor=True)\n",
    "\n",
    "ax.grid(which='minor', color='black', linestyle='-', linewidth=0.8)"
   ]
  },
  {
   "cell_type": "markdown",
   "metadata": {},
   "source": [
    "# Add noise"
   ]
  },
  {
   "cell_type": "code",
   "execution_count": 14,
   "metadata": {},
   "outputs": [],
   "source": [
    "sig2 = (1/snr) ** 2  \n",
    "\n",
    "if gaussian:\n",
    "    DWIn = add_noise_phantom(DWI.copy(), snr=snr, noise_type='gaussian')\n",
    "else:\n",
    "    DWIn = add_noise_phantom(DWI.copy(), snr=snr, noise_type='rician')\n",
    "\n",
    "if corrupt == 1:\n",
    "    DWInc = smooth(DWIn, gauss_std)\n",
    "if corrupt == 2:\n",
    "    DWInc = zero_fill(DWIn.copy(), zf)"
   ]
  },
  {
   "cell_type": "code",
   "execution_count": 15,
   "metadata": {},
   "outputs": [],
   "source": [
    "dkifu = dkim.fit(DWIn)\n",
    "dkifc = dkim.fit(DWInc)"
   ]
  },
  {
   "cell_type": "markdown",
   "metadata": {},
   "source": [
    "Let's plot the MK and FA reconstruction for noise corrupted data (<ins>Spatially uncorrelated noise</ins>)"
   ]
  },
  {
   "cell_type": "code",
   "execution_count": 16,
   "metadata": {},
   "outputs": [
    {
     "data": {
      "image/png": "[encoded data removed]",
      "text/plain": [
       "<Figure size 504x360 with 2 Axes>"
      ]
     },
     "metadata": {
      "needs_background": "light"
     },
     "output_type": "display_data"
    },
    {
     "data": {
      "image/png": "[encoded data removed]",
      "text/plain": [
       "<Figure size 504x360 with 2 Axes>"
      ]
     },
     "metadata": {
      "needs_background": "light"
     },
     "output_type": "display_data"
    }
   ],
   "source": [
    "FA = dkifu.fa\n",
    "MK = dkifu.mk()\n",
    "\n",
    "fig = plt.figure(figsize=(7, 5))\n",
    "plt.subplot(1, 1, 1)\n",
    "ec = plt.imshow(MK[:, :], cmap=\"gray\", vmin=0, vmax=2.25)\n",
    "\n",
    "plt.colorbar(ec)\n",
    "\n",
    "ax = plt.gca()\n",
    "\n",
    "ax.set_xticklabels([])\n",
    "ax.set_yticklabels([])\n",
    "ax.set_xticks([])\n",
    "ax.set_yticks([])\n",
    "\n",
    "ax.set_xticks(np.arange(-.5, N, 1), minor=True)\n",
    "ax.set_yticks(np.arange(-.5, N, 1), minor=True)\n",
    "\n",
    "ax.grid(which='minor', color='black', linestyle='-', linewidth=0.8)\n",
    "\n",
    "\n",
    "fig = plt.figure(figsize=(7, 5))\n",
    "plt.subplot(1, 1, 1)\n",
    "ec = plt.imshow(FA[:, :], cmap=\"gray\", vmin=0.5, vmax=1)\n",
    "\n",
    "plt.colorbar(ec)\n",
    "\n",
    "ax = plt.gca()\n",
    "\n",
    "ax.set_xticklabels([])\n",
    "ax.set_yticklabels([])\n",
    "ax.set_xticks([])\n",
    "ax.set_yticks([])\n",
    "\n",
    "ax.set_xticks(np.arange(-.5, N, 1), minor=True)\n",
    "ax.set_yticks(np.arange(-.5, N, 1), minor=True)\n",
    "\n",
    "ax.grid(which='minor', color='black', linestyle='-', linewidth=0.8)"
   ]
  },
  {
   "cell_type": "markdown",
   "metadata": {},
   "source": [
    "Let's plot the MK and FA reconstruction for noise corrupted data (<ins>Spatially correlated noise</ins>)"
   ]
  },
  {
   "cell_type": "code",
   "execution_count": 17,
   "metadata": {},
   "outputs": [
    {
     "data": {
      "image/png": "[encoded data removed]",
      "text/plain": [
       "<Figure size 504x360 with 2 Axes>"
      ]
     },
     "metadata": {
      "needs_background": "light"
     },
     "output_type": "display_data"
    },
    {
     "data": {
      "image/png": "[encoded data removed]",
      "text/plain": [
       "<Figure size 504x360 with 2 Axes>"
      ]
     },
     "metadata": {
      "needs_background": "light"
     },
     "output_type": "display_data"
    }
   ],
   "source": [
    "FA = dkifc.fa\n",
    "MK = dkifc.mk()\n",
    "\n",
    "fig = plt.figure(figsize=(7, 5))\n",
    "plt.subplot(1, 1, 1)\n",
    "ec = plt.imshow(MK[:, :], cmap=\"gray\", vmin=0, vmax=2.25)\n",
    "\n",
    "plt.colorbar(ec)\n",
    "\n",
    "ax = plt.gca()\n",
    "\n",
    "ax.set_xticklabels([])\n",
    "ax.set_yticklabels([])\n",
    "ax.set_xticks([])\n",
    "ax.set_yticks([])\n",
    "\n",
    "ax.set_xticks(np.arange(-.5, N, 1), minor=True)\n",
    "ax.set_yticks(np.arange(-.5, N, 1), minor=True)\n",
    "\n",
    "ax.grid(which='minor', color='black', linestyle='-', linewidth=0.8)\n",
    "\n",
    "\n",
    "fig = plt.figure(figsize=(7, 5))\n",
    "plt.subplot(1, 1, 1)\n",
    "ec = plt.imshow(FA[:, :], cmap=\"gray\", vmin=0.5, vmax=1)\n",
    "\n",
    "plt.colorbar(ec)\n",
    "\n",
    "ax = plt.gca()\n",
    "\n",
    "ax.set_xticklabels([])\n",
    "ax.set_yticklabels([])\n",
    "ax.set_xticks([])\n",
    "ax.set_yticks([])\n",
    "\n",
    "ax.set_xticks(np.arange(-.5, N, 1), minor=True)\n",
    "ax.set_yticks(np.arange(-.5, N, 1), minor=True)\n",
    "\n",
    "ax.grid(which='minor', color='black', linestyle='-', linewidth=0.8)"
   ]
  },
  {
   "cell_type": "markdown",
   "metadata": {},
   "source": [
    "# MPPCA Denoising"
   ]
  },
  {
   "cell_type": "code",
   "execution_count": 18,
   "metadata": {},
   "outputs": [],
   "source": [
    "# Let's convert phantoms to a 2D matrix\n",
    "n = DWIn.shape[-1]\n",
    "m = DWIn.shape[0]*DWIn.shape[1]\n",
    "y = n*1.0/m\n",
    "X = DWIn.reshape(m, n)\n",
    "M = np.mean(X, axis=0)\n",
    "X = X - M\n",
    "Xc = DWInc.reshape(m, n)\n",
    "Mc = np.mean(Xc, axis=0)\n",
    "Xc = Xc - Mc"
   ]
  },
  {
   "cell_type": "code",
   "execution_count": 19,
   "metadata": {},
   "outputs": [
    {
     "name": "stdout",
     "output_type": "stream",
     "text": [
      "102\n",
      "2\n"
     ]
    }
   ],
   "source": [
    "# MP-PCA denoising\n",
    "Xd, ncomps = _pca_matrix(X)\n",
    "Xd = Xd + M\n",
    "DWId = Xd.reshape(DWIn.shape)\n",
    "print(ncomps)\n",
    "\n",
    "Xdc, ncomps = _pca_matrix(Xc)\n",
    "Xdc = Xdc + Mc\n",
    "DWIdc = Xdc.reshape(DWIn.shape)\n",
    "print(ncomps)"
   ]
  },
  {
   "cell_type": "code",
   "execution_count": 20,
   "metadata": {},
   "outputs": [],
   "source": [
    "dkifu = dkim.fit(DWId)\n",
    "dkifc = dkim.fit(DWIdc)"
   ]
  },
  {
   "cell_type": "code",
   "execution_count": 21,
   "metadata": {},
   "outputs": [
    {
     "data": {
      "image/png": "[encoded data removed]",
      "text/plain": [
       "<Figure size 504x360 with 2 Axes>"
      ]
     },
     "metadata": {
      "needs_background": "light"
     },
     "output_type": "display_data"
    },
    {
     "data": {
      "image/png": "[encoded data removed]",
      "text/plain": [
       "<Figure size 504x360 with 2 Axes>"
      ]
     },
     "metadata": {
      "needs_background": "light"
     },
     "output_type": "display_data"
    }
   ],
   "source": [
    "# Uncorrelated\n",
    "\n",
    "FA = dkifu.fa\n",
    "MK = dkifu.mk()\n",
    "\n",
    "fig = plt.figure(figsize=(7, 5))\n",
    "plt.subplot(1, 1, 1)\n",
    "ec = plt.imshow(MK[:, :], cmap=\"gray\", vmin=0, vmax=2.25)\n",
    "\n",
    "plt.colorbar(ec)\n",
    "\n",
    "ax = plt.gca()\n",
    "\n",
    "ax.set_xticklabels([])\n",
    "ax.set_yticklabels([])\n",
    "ax.set_xticks([])\n",
    "ax.set_yticks([])\n",
    "\n",
    "ax.set_xticks(np.arange(-.5, N, 1), minor=True)\n",
    "ax.set_yticks(np.arange(-.5, N, 1), minor=True)\n",
    "\n",
    "ax.grid(which='minor', color='black', linestyle='-', linewidth=0.8)\n",
    "\n",
    "\n",
    "fig = plt.figure(figsize=(7, 5))\n",
    "plt.subplot(1, 1, 1)\n",
    "ec = plt.imshow(FA[:, :], cmap=\"gray\", vmin=0.5, vmax=1)\n",
    "\n",
    "plt.colorbar(ec)\n",
    "\n",
    "ax = plt.gca()\n",
    "\n",
    "ax.set_xticklabels([])\n",
    "ax.set_yticklabels([])\n",
    "ax.set_xticks([])\n",
    "ax.set_yticks([])\n",
    "\n",
    "ax.set_xticks(np.arange(-.5, N, 1), minor=True)\n",
    "ax.set_yticks(np.arange(-.5, N, 1), minor=True)\n",
    "\n",
    "ax.grid(which='minor', color='black', linestyle='-', linewidth=0.8)"
   ]
  },
  {
   "cell_type": "code",
   "execution_count": 22,
   "metadata": {},
   "outputs": [
    {
     "data": {
      "image/png": "[encoded data removed]",
      "text/plain": [
       "<Figure size 504x360 with 2 Axes>"
      ]
     },
     "metadata": {
      "needs_background": "light"
     },
     "output_type": "display_data"
    },
    {
     "data": {
      "image/png": "[encoded data removed]",
      "text/plain": [
       "<Figure size 504x360 with 2 Axes>"
      ]
     },
     "metadata": {
      "needs_background": "light"
     },
     "output_type": "display_data"
    }
   ],
   "source": [
    "# Noise correlated\n",
    "\n",
    "FA = dkifc.fa\n",
    "MK = dkifc.mk()\n",
    "\n",
    "fig = plt.figure(figsize=(7, 5))\n",
    "plt.subplot(1, 1, 1)\n",
    "ec = plt.imshow(MK[:, :], cmap=\"gray\", vmin=0, vmax=2.25)\n",
    "\n",
    "plt.colorbar(ec)\n",
    "\n",
    "ax = plt.gca()\n",
    "\n",
    "ax.set_xticklabels([])\n",
    "ax.set_yticklabels([])\n",
    "ax.set_xticks([])\n",
    "ax.set_yticks([])\n",
    "\n",
    "ax.set_xticks(np.arange(-.5, N, 1), minor=True)\n",
    "ax.set_yticks(np.arange(-.5, N, 1), minor=True)\n",
    "\n",
    "ax.grid(which='minor', color='black', linestyle='-', linewidth=0.8)\n",
    "\n",
    "\n",
    "fig = plt.figure(figsize=(7, 5))\n",
    "plt.subplot(1, 1, 1)\n",
    "ec = plt.imshow(FA[:, :], cmap=\"gray\", vmin=0.5, vmax=1)\n",
    "\n",
    "plt.colorbar(ec)\n",
    "\n",
    "ax = plt.gca()\n",
    "\n",
    "ax.set_xticklabels([])\n",
    "ax.set_yticklabels([])\n",
    "ax.set_xticks([])\n",
    "ax.set_yticks([])\n",
    "\n",
    "ax.set_xticks(np.arange(-.5, N, 1), minor=True)\n",
    "ax.set_yticks(np.arange(-.5, N, 1), minor=True)\n",
    "\n",
    "ax.grid(which='minor', color='black', linestyle='-', linewidth=0.8)"
   ]
  },
  {
   "cell_type": "markdown",
   "metadata": {},
   "source": [
    "MP-PCA successfully suppresses noise when it is spatially uncorrelated but its performance is limited on spatially correlated noise.\n",
    "\n",
    "# GPCA Denoising"
   ]
  },
  {
   "cell_type": "code",
   "execution_count": 23,
   "metadata": {},
   "outputs": [
    {
     "name": "stdout",
     "output_type": "stream",
     "text": [
      "102\n",
      "102\n"
     ]
    }
   ],
   "source": [
    "# General PCA denoising\n",
    "varp1 = np.mean(np.var(DWIn[..., gtab.b0s_mask], axis=-1, ddof=1))\n",
    "varp2 = np.mean(np.var(DWInc[..., gtab.b0s_mask], axis=-1, ddof=1))\n",
    "\n",
    "Xd, ncomps = _pca_matrix(X, sig2=varp1)\n",
    "Xd = Xd + M\n",
    "DWId = Xd.reshape(DWIn.shape)\n",
    "print(ncomps)\n",
    "\n",
    "Xdc, ncomps = _pca_matrix(Xc, sig2=varp2)\n",
    "Xdc = Xdc + Mc\n",
    "DWIdc = Xdc.reshape(DWIn.shape)\n",
    "print(ncomps)"
   ]
  },
  {
   "cell_type": "code",
   "execution_count": 24,
   "metadata": {},
   "outputs": [],
   "source": [
    "dkifu = dkim.fit(DWId)\n",
    "dkifc = dkim.fit(DWIdc)"
   ]
  },
  {
   "cell_type": "code",
   "execution_count": 25,
   "metadata": {},
   "outputs": [
    {
     "data": {
      "image/png": "[encoded data removed]",
      "text/plain": [
       "<Figure size 504x360 with 2 Axes>"
      ]
     },
     "metadata": {
      "needs_background": "light"
     },
     "output_type": "display_data"
    },
    {
     "data": {
      "image/png": "[encoded data removed]",
      "text/plain": [
       "<Figure size 504x360 with 2 Axes>"
      ]
     },
     "metadata": {
      "needs_background": "light"
     },
     "output_type": "display_data"
    }
   ],
   "source": [
    "# Uncorrelated\n",
    "\n",
    "FA = dkifu.fa\n",
    "MK = dkifu.mk()\n",
    "\n",
    "fig = plt.figure(figsize=(7, 5))\n",
    "plt.subplot(1, 1, 1)\n",
    "ec = plt.imshow(MK[:, :], cmap=\"gray\", vmin=0, vmax=2.25)\n",
    "\n",
    "plt.colorbar(ec)\n",
    "\n",
    "ax = plt.gca()\n",
    "\n",
    "ax.set_xticklabels([])\n",
    "ax.set_yticklabels([])\n",
    "ax.set_xticks([])\n",
    "ax.set_yticks([])\n",
    "\n",
    "ax.set_xticks(np.arange(-.5, N, 1), minor=True)\n",
    "ax.set_yticks(np.arange(-.5, N, 1), minor=True)\n",
    "\n",
    "ax.grid(which='minor', color='black', linestyle='-', linewidth=0.8)\n",
    "\n",
    "\n",
    "fig = plt.figure(figsize=(7, 5))\n",
    "plt.subplot(1, 1, 1)\n",
    "ec = plt.imshow(FA[:, :], cmap=\"gray\", vmin=0.5, vmax=1)\n",
    "\n",
    "plt.colorbar(ec)\n",
    "\n",
    "ax = plt.gca()\n",
    "\n",
    "ax.set_xticklabels([])\n",
    "ax.set_yticklabels([])\n",
    "ax.set_xticks([])\n",
    "ax.set_yticks([])\n",
    "\n",
    "ax.set_xticks(np.arange(-.5, N, 1), minor=True)\n",
    "ax.set_yticks(np.arange(-.5, N, 1), minor=True)\n",
    "\n",
    "ax.grid(which='minor', color='black', linestyle='-', linewidth=0.8)"
   ]
  },
  {
   "cell_type": "code",
   "execution_count": 26,
   "metadata": {},
   "outputs": [
    {
     "data": {
      "image/png": "[encoded data removed]",
      "text/plain": [
       "<Figure size 504x360 with 2 Axes>"
      ]
     },
     "metadata": {
      "needs_background": "light"
     },
     "output_type": "display_data"
    },
    {
     "data": {
      "image/png": "[encoded data removed]",
      "text/plain": [
       "<Figure size 504x360 with 2 Axes>"
      ]
     },
     "metadata": {
      "needs_background": "light"
     },
     "output_type": "display_data"
    }
   ],
   "source": [
    "# Correlated\n",
    "\n",
    "FA = dkifc.fa\n",
    "MK = dkifc.mk()\n",
    "\n",
    "fig = plt.figure(figsize=(7, 5))\n",
    "plt.subplot(1, 1, 1)\n",
    "ec = plt.imshow(MK[:, :], cmap=\"gray\", vmin=0, vmax=2.25)\n",
    "\n",
    "plt.colorbar(ec)\n",
    "\n",
    "ax = plt.gca()\n",
    "\n",
    "ax.set_xticklabels([])\n",
    "ax.set_yticklabels([])\n",
    "ax.set_xticks([])\n",
    "ax.set_yticks([])\n",
    "\n",
    "ax.set_xticks(np.arange(-.5, N, 1), minor=True)\n",
    "ax.set_yticks(np.arange(-.5, N, 1), minor=True)\n",
    "\n",
    "ax.grid(which='minor', color='black', linestyle='-', linewidth=0.8)\n",
    "\n",
    "\n",
    "fig = plt.figure(figsize=(7, 5))\n",
    "plt.subplot(1, 1, 1)\n",
    "ec = plt.imshow(FA[:, :], cmap=\"gray\", vmin=0.5, vmax=1)\n",
    "\n",
    "plt.colorbar(ec)\n",
    "\n",
    "ax = plt.gca()\n",
    "\n",
    "ax.set_xticklabels([])\n",
    "ax.set_yticklabels([])\n",
    "ax.set_xticks([])\n",
    "ax.set_yticks([])\n",
    "\n",
    "ax.set_xticks(np.arange(-.5, N, 1), minor=True)\n",
    "ax.set_yticks(np.arange(-.5, N, 1), minor=True)\n",
    "\n",
    "ax.grid(which='minor', color='black', linestyle='-', linewidth=0.8)"
   ]
  },
  {
   "cell_type": "markdown",
   "metadata": {},
   "source": [
    "GPCA has an optimal performance for both spatially uncorrelated and correlated noise. For both cases, it correclty detected the 102 ground truth noise components of the phantoms.\n",
    "\n",
    "# TPCA Denoising"
   ]
  },
  {
   "cell_type": "code",
   "execution_count": 27,
   "metadata": {},
   "outputs": [
    {
     "name": "stdout",
     "output_type": "stream",
     "text": [
      "102\n",
      "100\n"
     ]
    }
   ],
   "source": [
    "Xd, ncomps = _pca_matrix(X, sig2=varp1, tau_factor=1+np.sqrt(n / m))\n",
    "Xd = Xd + M\n",
    "DWId = Xd.reshape(DWIn.shape)\n",
    "print(ncomps)\n",
    "\n",
    "Xdc, ncomps = _pca_matrix(Xc, sig2=varp2, tau_factor=1+np.sqrt(n / m))\n",
    "Xdc = Xdc + Mc\n",
    "DWIdc = Xdc.reshape(DWIn.shape)\n",
    "print(ncomps)"
   ]
  },
  {
   "cell_type": "code",
   "execution_count": 28,
   "metadata": {},
   "outputs": [],
   "source": [
    "dkifu = dkim.fit(DWId)\n",
    "dkifc = dkim.fit(DWIdc)"
   ]
  },
  {
   "cell_type": "code",
   "execution_count": 29,
   "metadata": {},
   "outputs": [
    {
     "data": {
      "image/png": "[encoded data removed]",
      "text/plain": [
       "<Figure size 504x360 with 2 Axes>"
      ]
     },
     "metadata": {
      "needs_background": "light"
     },
     "output_type": "display_data"
    },
    {
     "data": {
      "image/png": "[encoded data removed]",
      "text/plain": [
       "<Figure size 504x360 with 2 Axes>"
      ]
     },
     "metadata": {
      "needs_background": "light"
     },
     "output_type": "display_data"
    }
   ],
   "source": [
    "# Uncorrelated\n",
    "\n",
    "FA = dkifu.fa\n",
    "MK = dkifu.mk()\n",
    "\n",
    "fig = plt.figure(figsize=(7, 5))\n",
    "plt.subplot(1, 1, 1)\n",
    "ec = plt.imshow(MK[:, :], cmap=\"gray\", vmin=0, vmax=2.25)\n",
    "\n",
    "plt.colorbar(ec)\n",
    "\n",
    "ax = plt.gca()\n",
    "\n",
    "ax.set_xticklabels([])\n",
    "ax.set_yticklabels([])\n",
    "ax.set_xticks([])\n",
    "ax.set_yticks([])\n",
    "\n",
    "ax.set_xticks(np.arange(-.5, N, 1), minor=True)\n",
    "ax.set_yticks(np.arange(-.5, N, 1), minor=True)\n",
    "\n",
    "ax.grid(which='minor', color='black', linestyle='-', linewidth=0.8)\n",
    "\n",
    "\n",
    "fig = plt.figure(figsize=(7, 5))\n",
    "plt.subplot(1, 1, 1)\n",
    "ec = plt.imshow(FA[:, :], cmap=\"gray\", vmin=0.5, vmax=1)\n",
    "\n",
    "plt.colorbar(ec)\n",
    "\n",
    "ax = plt.gca()\n",
    "\n",
    "ax.set_xticklabels([])\n",
    "ax.set_yticklabels([])\n",
    "ax.set_xticks([])\n",
    "ax.set_yticks([])\n",
    "\n",
    "ax.set_xticks(np.arange(-.5, N, 1), minor=True)\n",
    "ax.set_yticks(np.arange(-.5, N, 1), minor=True)\n",
    "\n",
    "ax.grid(which='minor', color='black', linestyle='-', linewidth=0.8)"
   ]
  },
  {
   "cell_type": "code",
   "execution_count": 30,
   "metadata": {},
   "outputs": [
    {
     "data": {
      "image/png": "[encoded data removed]",
      "text/plain": [
       "<Figure size 504x360 with 2 Axes>"
      ]
     },
     "metadata": {
      "needs_background": "light"
     },
     "output_type": "display_data"
    },
    {
     "data": {
      "image/png": "[encoded data removed]",
      "text/plain": [
       "<Figure size 504x360 with 2 Axes>"
      ]
     },
     "metadata": {
      "needs_background": "light"
     },
     "output_type": "display_data"
    }
   ],
   "source": [
    "# Correlated\n",
    "\n",
    "FA = dkifc.fa\n",
    "MK = dkifc.mk()\n",
    "\n",
    "fig = plt.figure(figsize=(7, 5))\n",
    "plt.subplot(1, 1, 1)\n",
    "ec = plt.imshow(MK[:, :], cmap=\"gray\", vmin=0, vmax=2.25)\n",
    "\n",
    "plt.colorbar(ec)\n",
    "\n",
    "ax = plt.gca()\n",
    "\n",
    "ax.set_xticklabels([])\n",
    "ax.set_yticklabels([])\n",
    "ax.set_xticks([])\n",
    "ax.set_yticks([])\n",
    "\n",
    "ax.set_xticks(np.arange(-.5, N, 1), minor=True)\n",
    "ax.set_yticks(np.arange(-.5, N, 1), minor=True)\n",
    "\n",
    "ax.grid(which='minor', color='black', linestyle='-', linewidth=0.8)\n",
    "\n",
    "\n",
    "fig = plt.figure(figsize=(7, 5))\n",
    "plt.subplot(1, 1, 1)\n",
    "ec = plt.imshow(FA[:, :], cmap=\"gray\", vmin=0.5, vmax=1)\n",
    "\n",
    "plt.colorbar(ec)\n",
    "\n",
    "ax = plt.gca()\n",
    "\n",
    "ax.set_xticklabels([])\n",
    "ax.set_yticklabels([])\n",
    "ax.set_xticks([])\n",
    "ax.set_yticks([])\n",
    "\n",
    "ax.set_xticks(np.arange(-.5, N, 1), minor=True)\n",
    "ax.set_yticks(np.arange(-.5, N, 1), minor=True)\n",
    "\n",
    "ax.grid(which='minor', color='black', linestyle='-', linewidth=0.8)"
   ]
  },
  {
   "cell_type": "markdown",
   "metadata": {},
   "source": [
    "TPCA denoising also provides robust denoising for both spatially uncorrelated and correlated phantoms. However, it perserved 2 more signal components than expected."
   ]
  },
  {
   "cell_type": "markdown",
   "metadata": {},
   "source": [
    "# Quantification of SNR gain in kurtosis metrics"
   ]
  },
  {
   "cell_type": "code",
   "execution_count": 31,
   "metadata": {},
   "outputs": [],
   "source": [
    "# Ground truth for uncorrelated noise\n",
    "DWI = fib3_phantom_9comps(gtab, N=N)\n",
    "\n",
    "# Ground truth for correlated noise\n",
    "if corrupt == 1:\n",
    "    DWIc = smooth(DWI.copy(), gauss_std)\n",
    "else:\n",
    "    DWIc = zero_fill(DWI.copy(), zf)\n",
    "\n",
    "m = DWI.shape[0] * DWI.shape[1]"
   ]
  },
  {
   "cell_type": "code",
   "execution_count": 32,
   "metadata": {},
   "outputs": [],
   "source": [
    "dkifc = dkim.fit(DWIc)"
   ]
  },
  {
   "cell_type": "code",
   "execution_count": 33,
   "metadata": {},
   "outputs": [],
   "source": [
    "FAgt = dkifc.fa\n",
    "MDgt = dkifc.md\n",
    "ADgt = dkifc.ad\n",
    "RDgt = dkifc.rd\n",
    "MKgt = dkifc.mk()\n",
    "AKgt = dkifc.ak()\n",
    "RKgt = dkifc.rk()"
   ]
  },
  {
   "cell_type": "code",
   "execution_count": 34,
   "metadata": {},
   "outputs": [],
   "source": [
    "FAgt = FAgt.reshape(m)\n",
    "MDgt = MDgt.reshape(m)\n",
    "ADgt = ADgt.reshape(m)\n",
    "RDgt = RDgt.reshape(m)\n",
    "MKgt = MKgt.reshape(m)\n",
    "AKgt = AKgt.reshape(m)\n",
    "RKgt = RKgt.reshape(m)"
   ]
  },
  {
   "cell_type": "code",
   "execution_count": 35,
   "metadata": {},
   "outputs": [
    {
     "name": "stdout",
     "output_type": "stream",
     "text": [
      "0\n",
      "1\n",
      "2\n",
      "3\n",
      "4\n",
      "5\n",
      "6\n",
      "7\n",
      "8\n",
      "9\n",
      "10\n",
      "11\n",
      "12\n",
      "13\n",
      "14\n",
      "15\n",
      "16\n",
      "17\n",
      "18\n",
      "19\n",
      "20\n",
      "21\n",
      "22\n",
      "23\n",
      "24\n",
      "25\n",
      "26\n",
      "27\n",
      "28\n",
      "29\n",
      "30\n",
      "31\n",
      "32\n",
      "33\n",
      "34\n",
      "35\n",
      "36\n",
      "37\n",
      "38\n",
      "39\n",
      "40\n",
      "41\n",
      "42\n",
      "43\n",
      "44\n",
      "45\n",
      "46\n",
      "47\n",
      "48\n",
      "49\n",
      "50\n",
      "51\n",
      "52\n",
      "53\n",
      "54\n",
      "55\n",
      "56\n",
      "57\n",
      "58\n",
      "59\n",
      "60\n",
      "61\n",
      "62\n",
      "63\n",
      "64\n",
      "65\n",
      "66\n",
      "67\n",
      "68\n",
      "69\n",
      "70\n",
      "71\n",
      "72\n",
      "73\n",
      "74\n",
      "75\n",
      "76\n",
      "77\n",
      "78\n",
      "79\n",
      "80\n",
      "81\n",
      "82\n",
      "83\n",
      "84\n",
      "85\n",
      "86\n",
      "87\n",
      "88\n",
      "89\n",
      "90\n",
      "91\n",
      "92\n",
      "93\n",
      "94\n",
      "95\n",
      "96\n",
      "97\n",
      "98\n",
      "99\n"
     ]
    }
   ],
   "source": [
    "# spatially correlated noise\n",
    "\n",
    "nrep = 100\n",
    "\n",
    "FAraw_e = np.array([])\n",
    "MDraw_e = np.array([])\n",
    "ADraw_e = np.array([])\n",
    "RDraw_e = np.array([])\n",
    "MKraw_e = np.array([])\n",
    "AKraw_e = np.array([])\n",
    "RKraw_e = np.array([])\n",
    "\n",
    "FAmpca_e = np.array([])\n",
    "MDmpca_e = np.array([])\n",
    "ADmpca_e = np.array([])\n",
    "RDmpca_e = np.array([])\n",
    "MKmpca_e = np.array([])\n",
    "AKmpca_e = np.array([])\n",
    "RKmpca_e = np.array([])\n",
    "\n",
    "FAgpca_e = np.array([])\n",
    "MDgpca_e = np.array([])\n",
    "ADgpca_e = np.array([])\n",
    "RDgpca_e = np.array([])\n",
    "MKgpca_e = np.array([])\n",
    "AKgpca_e = np.array([])\n",
    "RKgpca_e = np.array([])\n",
    "\n",
    "FAtpca_e = np.array([])\n",
    "MDtpca_e = np.array([])\n",
    "ADtpca_e = np.array([])\n",
    "RDtpca_e = np.array([])\n",
    "MKtpca_e = np.array([])\n",
    "AKtpca_e = np.array([])\n",
    "RKtpca_e = np.array([])\n",
    "\n",
    "over_fac = 1\n",
    "\n",
    "for rep in range(nrep):\n",
    "    if gaussian:\n",
    "        DWIn = add_noise_phantom(DWI.copy(), snr=snr, noise_type='gaussian')\n",
    "    else:\n",
    "        DWIn = add_noise_phantom(DWI.copy(), snr=snr, noise_type='rician')\n",
    "    \n",
    "    if corrupt == 1:\n",
    "        DWIn = smooth(DWIn.copy(), gauss_std)\n",
    "    else:\n",
    "        DWIn = zero_fill(DWIn.copy(), zf)\n",
    "    var_all = (over_fac**2) * np.mean(np.var(DWIn[..., gtab.b0s_mask], axis=-1, ddof=1))\n",
    "\n",
    "    X = DWIn.reshape(m, n)\n",
    "    M = np.mean(X, axis=0)\n",
    "    \n",
    "    # Raw\n",
    "    dki_raw = dkim.fit(X)\n",
    "    FAraw_e = np.append(FAraw_e, dki_raw.fa - FAgt)\n",
    "    MDraw_e = np.append(MDraw_e, dki_raw.md - MDgt)\n",
    "    ADraw_e = np.append(ADraw_e, dki_raw.ad - ADgt)\n",
    "    RDraw_e = np.append(RDraw_e, dki_raw.rd - RDgt)\n",
    "    MKraw_e = np.append(MKraw_e, dki_raw.mk() - MKgt)\n",
    "    AKraw_e = np.append(AKraw_e, dki_raw.ak() - AKgt)\n",
    "    RKraw_e = np.append(RKraw_e, dki_raw.rk() - RKgt)\n",
    "    \n",
    "    X = X - M\n",
    "    \n",
    "    # MPPCA\n",
    "    Xmpca, ncomps = _pca_matrix(X)\n",
    "    Xmpca = Xmpca + M\n",
    "    dki_mpca = dkim.fit(Xmpca)\n",
    "    FAmpca_e = np.append(FAmpca_e, dki_mpca.fa - FAgt)\n",
    "    MDmpca_e = np.append(MDmpca_e, dki_mpca.md - MDgt)\n",
    "    ADmpca_e = np.append(ADmpca_e, dki_mpca.ad - ADgt)\n",
    "    RDmpca_e = np.append(RDmpca_e, dki_mpca.rd - RDgt)\n",
    "    MKmpca_e = np.append(MKmpca_e, dki_mpca.mk() - MKgt)\n",
    "    AKmpca_e = np.append(AKmpca_e, dki_mpca.ak() - AKgt)\n",
    "    RKmpca_e = np.append(RKmpca_e, dki_mpca.rk() - RKgt)\n",
    "    \n",
    "    # GPCA\n",
    "    Xgpca, ncomps = _pca_matrix(X, sig2=var_all)\n",
    "    Xgpca = Xgpca + M\n",
    "    dki_gpca = dkim.fit(Xgpca)\n",
    "    FAgpca_e = np.append(FAgpca_e, dki_gpca.fa - FAgt)\n",
    "    MDgpca_e = np.append(MDgpca_e, dki_gpca.md - MDgt)\n",
    "    ADgpca_e = np.append(ADgpca_e, dki_gpca.ad - ADgt)\n",
    "    RDgpca_e = np.append(RDgpca_e, dki_gpca.rd - RDgt)\n",
    "    MKgpca_e = np.append(MKgpca_e, dki_gpca.mk() - MKgt)\n",
    "    AKgpca_e = np.append(AKgpca_e, dki_gpca.ak() - AKgt)\n",
    "    RKgpca_e = np.append(RKgpca_e, dki_gpca.rk() - RKgt)\n",
    "    \n",
    "    # TPCA\n",
    "    Xtpca, ncomps = _pca_matrix(X, sig2=var_all, tau_factor=1+np.sqrt(n / m))\n",
    "    Xtpca = Xtpca + M\n",
    "    dki_tpca = dkim.fit(Xtpca)\n",
    "    FAtpca_e = np.append(FAtpca_e, dki_tpca.fa - FAgt)\n",
    "    MDtpca_e = np.append(MDtpca_e, dki_tpca.md - MDgt)\n",
    "    ADtpca_e = np.append(ADtpca_e, dki_tpca.ad - ADgt)\n",
    "    RDtpca_e = np.append(RDtpca_e, dki_tpca.rd - RDgt)\n",
    "    MKtpca_e = np.append(MKtpca_e, dki_tpca.mk() - MKgt)\n",
    "    AKtpca_e = np.append(AKtpca_e, dki_tpca.ak() - AKgt)\n",
    "    RKtpca_e = np.append(RKtpca_e, dki_tpca.rk() - RKgt)\n",
    "    \n",
    "    print(rep)\n"
   ]
  },
  {
   "cell_type": "code",
   "execution_count": 36,
   "metadata": {},
   "outputs": [
    {
     "data": {
      "text/plain": [
       "(14400,)"
      ]
     },
     "execution_count": 36,
     "metadata": {},
     "output_type": "execute_result"
    }
   ],
   "source": [
    "FAraw_e.shape"
   ]
  },
  {
   "cell_type": "code",
   "execution_count": 37,
   "metadata": {},
   "outputs": [
    {
     "data": {
      "image/png": "[encoded data removed]",
      "text/plain": [
       "<Figure size 1080x216 with 4 Axes>"
      ]
     },
     "metadata": {
      "needs_background": "light"
     },
     "output_type": "display_data"
    }
   ],
   "source": [
    "plt.rcParams.update({'font.size': 15})\n",
    "\n",
    "fig1, ax = plt.subplots(1, 4, figsize=(15, 3))\n",
    "fig1.subplots_adjust(hspace=0.3, wspace=0.15)\n",
    "\n",
    "counts, ed = np.histogram(FAraw_e, bins=50, range=(-0.1, 0.1), density=True)\n",
    "cax0 = ax.flat[0].bar(ed[:-1]+np.diff(ed[:2])/2, counts, width = (0.2)/50, color='grey', alpha=0.7, edgecolor='black', label='measured dist.')\n",
    "\n",
    "counts, ed = np.histogram(FAmpca_e, bins=50, range=(-0.1, 0.1), density=True)\n",
    "cax0 = ax.flat[1].bar(ed[:-1]+np.diff(ed[:2])/2, counts, width = (0.2)/50, color='cyan', alpha=0.7, edgecolor='black', label='measured dist.')\n",
    "\n",
    "counts, ed = np.histogram(FAgpca_e, bins=50, range=(-0.1, 0.1), density=True)\n",
    "cax0 = ax.flat[2].bar(ed[:-1]+np.diff(ed[:2])/2, counts, width = (0.2)/50, color='green', alpha=0.7, edgecolor='black', label='measured dist.')\n",
    "\n",
    "counts, ed = np.histogram(FAtpca_e, bins=50, range=(-0.1, 0.1), density=True)\n",
    "cax0 = ax.flat[3].bar(ed[:-1]+np.diff(ed[:2])/2, counts, width = (0.2)/50, color='orange', alpha=0.7, edgecolor='black', label='measured dist.')\n"
   ]
  },
  {
   "cell_type": "code",
   "execution_count": 38,
   "metadata": {},
   "outputs": [
    {
     "data": {
      "image/png": "[encoded data removed]",
      "text/plain": [
       "<Figure size 1080x216 with 4 Axes>"
      ]
     },
     "metadata": {
      "needs_background": "light"
     },
     "output_type": "display_data"
    }
   ],
   "source": [
    "plt.rcParams.update({'font.size': 15})\n",
    "\n",
    "fig1, ax = plt.subplots(1, 4, figsize=(15, 3))\n",
    "fig1.subplots_adjust(hspace=0.3, wspace=0.15)\n",
    "\n",
    "counts, ed = np.histogram(MKraw_e, bins=50, range=(-0.5, 0.5), density=True)\n",
    "cax0 = ax.flat[0].bar(ed[:-1]+np.diff(ed[:2])/2, counts, width = 1/50, color='grey', alpha=0.7, edgecolor='black', label='measured dist.')\n",
    "\n",
    "counts, ed = np.histogram(MKmpca_e, bins=50, range=(-0.5, 0.5), density=True)\n",
    "cax0 = ax.flat[1].bar(ed[:-1]+np.diff(ed[:2])/2, counts, width = 1/50, color='cyan', alpha=0.7, edgecolor='black', label='measured dist.')\n",
    "\n",
    "counts, ed = np.histogram(MKgpca_e, bins=50, range=(-0.5, 0.5), density=True)\n",
    "cax0 = ax.flat[2].bar(ed[:-1]+np.diff(ed[:2])/2, counts, width = 1/50, color='green', alpha=0.7, edgecolor='black', label='measured dist.')\n",
    "\n",
    "counts, ed = np.histogram(MKtpca_e, bins=50, range=(-0.5, 0.5), density=True)\n",
    "cax0 = ax.flat[3].bar(ed[:-1]+np.diff(ed[:2])/2, counts, width = 1/50, color='orange', alpha=0.7, edgecolor='black', label='measured dist.')\n"
   ]
  },
  {
   "cell_type": "code",
   "execution_count": 39,
   "metadata": {},
   "outputs": [],
   "source": [
    "plt.rcParams.update({'font.size': 10})"
   ]
  },
  {
   "cell_type": "code",
   "execution_count": 40,
   "metadata": {},
   "outputs": [],
   "source": [
    "RMSEfa_raw = np.sqrt(np.mean(FAraw_e ** 2))\n",
    "RMSEmd_raw = np.sqrt(np.mean(MDraw_e ** 2)) * 1000\n",
    "RMSErd_raw = np.sqrt(np.mean(RDraw_e ** 2)) * 1000\n",
    "RMSEad_raw = np.sqrt(np.mean(ADraw_e ** 2)) * 1000\n",
    "RMSEmk_raw = np.sqrt(np.mean(MKraw_e ** 2))\n",
    "RMSErk_raw = np.sqrt(np.mean(RKraw_e ** 2))\n",
    "RMSEak_raw = np.sqrt(np.mean(AKraw_e ** 2))\n",
    "\n",
    "RMSEfa_mpca = np.sqrt(np.mean(FAmpca_e ** 2))\n",
    "RMSEmd_mpca = np.sqrt(np.mean(MDmpca_e ** 2)) * 1000\n",
    "RMSErd_mpca = np.sqrt(np.mean(RDmpca_e ** 2)) * 1000\n",
    "RMSEad_mpca = np.sqrt(np.mean(ADmpca_e ** 2)) * 1000\n",
    "RMSEmk_mpca = np.sqrt(np.mean(MKmpca_e ** 2))\n",
    "RMSErk_mpca = np.sqrt(np.mean(RKmpca_e ** 2))\n",
    "RMSEak_mpca = np.sqrt(np.mean(AKmpca_e ** 2))\n",
    "\n",
    "RMSEfa_gpca = np.sqrt(np.mean(FAgpca_e ** 2))\n",
    "RMSEmd_gpca = np.sqrt(np.mean(MDgpca_e ** 2)) * 1000\n",
    "RMSErd_gpca = np.sqrt(np.mean(RDgpca_e ** 2)) * 1000\n",
    "RMSEad_gpca = np.sqrt(np.mean(ADgpca_e ** 2)) * 1000\n",
    "RMSEmk_gpca = np.sqrt(np.mean(MKgpca_e ** 2))\n",
    "RMSErk_gpca = np.sqrt(np.mean(RKgpca_e ** 2))\n",
    "RMSEak_gpca = np.sqrt(np.mean(AKgpca_e ** 2))\n",
    "    \n",
    "RMSEfa_tpca = np.sqrt(np.mean(FAtpca_e ** 2))\n",
    "RMSEmd_tpca = np.sqrt(np.mean(MDtpca_e ** 2)) * 1000\n",
    "RMSErd_tpca = np.sqrt(np.mean(RDtpca_e ** 2)) * 1000\n",
    "RMSEad_tpca = np.sqrt(np.mean(ADtpca_e ** 2)) * 1000\n",
    "RMSEmk_tpca = np.sqrt(np.mean(MKtpca_e ** 2))\n",
    "RMSErk_tpca = np.sqrt(np.mean(RKtpca_e ** 2))\n",
    "RMSEak_tpca = np.sqrt(np.mean(AKtpca_e ** 2))"
   ]
  },
  {
   "cell_type": "code",
   "execution_count": 41,
   "metadata": {},
   "outputs": [
    {
     "name": "stdout",
     "output_type": "stream",
     "text": [
      "Raw\n",
      "0.015103478243323119\n",
      "0.01732048104899873\n",
      "0.014850615476639606\n",
      "0.05223844917184254\n",
      "0.27718423249765833\n",
      "1.3508827183978278\n",
      "0.05223844917184254\n",
      " \n",
      "MPPCA\n",
      "0.014439402505879079\n",
      "0.016242183704776054\n",
      "0.014044470891227356\n",
      "0.049793094087146834\n",
      "0.25445874248270606\n",
      "1.2734538736958585\n",
      "0.049793094087146834\n",
      " \n",
      "GPCA\n",
      "0.011531464961344131\n",
      "0.00992877839764536\n",
      "0.009248548767668658\n",
      "0.03794224130793706\n",
      "0.12017555712446738\n",
      "0.6525521451591517\n",
      "0.03794224130793706\n",
      " \n",
      "TPCA\n",
      "0.011722537731587712\n",
      "0.010437885625648057\n",
      "0.009601566480852964\n",
      "0.03880424083031288\n",
      "0.13168196797042528\n",
      "0.6967260753296461\n",
      "0.03880424083031288\n"
     ]
    }
   ],
   "source": [
    "print('Raw')\n",
    "print(RMSEfa_raw)\n",
    "print(RMSEmd_raw)\n",
    "print(RMSErd_raw)\n",
    "print(RMSEad_raw)\n",
    "print(RMSEmk_raw)\n",
    "print(RMSErk_raw)\n",
    "print(RMSEad_raw)\n",
    "print(' ')\n",
    "print('MPPCA')\n",
    "print(RMSEfa_mpca)\n",
    "print(RMSEmd_mpca)\n",
    "print(RMSErd_mpca)\n",
    "print(RMSEad_mpca)\n",
    "print(RMSEmk_mpca)\n",
    "print(RMSErk_mpca)\n",
    "print(RMSEad_mpca)\n",
    "print(' ')\n",
    "print('GPCA')\n",
    "print(RMSEfa_gpca)\n",
    "print(RMSEmd_gpca)\n",
    "print(RMSErd_gpca)\n",
    "print(RMSEad_gpca)\n",
    "print(RMSEmk_gpca)\n",
    "print(RMSErk_gpca)\n",
    "print(RMSEad_gpca)\n",
    "print(' ')\n",
    "print('TPCA')\n",
    "print(RMSEfa_tpca)\n",
    "print(RMSEmd_tpca)\n",
    "print(RMSErd_tpca)\n",
    "print(RMSEad_tpca)\n",
    "print(RMSEmk_tpca)\n",
    "print(RMSErk_tpca)\n",
    "print(RMSEad_tpca)"
   ]
  },
  {
   "cell_type": "markdown",
   "metadata": {},
   "source": [
    "# Results for overestimates variance estimates"
   ]
  },
  {
   "cell_type": "code",
   "execution_count": 42,
   "metadata": {},
   "outputs": [],
   "source": [
    "over_fac = 1.6"
   ]
  },
  {
   "cell_type": "code",
   "execution_count": 43,
   "metadata": {},
   "outputs": [],
   "source": [
    "# Ground truth for uncorrelated noise\n",
    "DWI = fib3_phantom_9comps(gtab, N=N)\n",
    "\n",
    "# Ground truth for correlated noise\n",
    "if corrupt == 1:\n",
    "    DWIc = smooth(DWI.copy(), gauss_std)\n",
    "else:\n",
    "    DWIc = zero_fill(DWI.copy(), zf)\n",
    "\n",
    "m = DWI.shape[0] * DWI.shape[1]"
   ]
  },
  {
   "cell_type": "code",
   "execution_count": 44,
   "metadata": {},
   "outputs": [
    {
     "data": {
      "image/png": "[encoded data removed]",
      "text/plain": [
       "<Figure size 504x360 with 2 Axes>"
      ]
     },
     "metadata": {
      "needs_background": "light"
     },
     "output_type": "display_data"
    },
    {
     "data": {
      "image/png": "[encoded data removed]",
      "text/plain": [
       "<Figure size 504x360 with 2 Axes>"
      ]
     },
     "metadata": {
      "needs_background": "light"
     },
     "output_type": "display_data"
    }
   ],
   "source": [
    "dkifc = dkim.fit(DWIc)\n",
    "\n",
    "FA = dkifc.fa\n",
    "MK = dkifc.mk()\n",
    "FAgt_cor = FA\n",
    "MKgt_cor = MK\n",
    "\n",
    "fig = plt.figure(figsize=(7, 5))\n",
    "plt.subplot(1, 1, 1)\n",
    "ec = plt.imshow(MK[:, :], cmap=\"gray\", vmin=0, vmax=2.25)\n",
    "\n",
    "plt.colorbar(ec)\n",
    "\n",
    "ax = plt.gca()\n",
    "\n",
    "ax.set_xticklabels([])\n",
    "ax.set_yticklabels([])\n",
    "ax.set_xticks([])\n",
    "ax.set_yticks([])\n",
    "\n",
    "ax.set_xticks(np.arange(-.5, N, 1), minor=True)\n",
    "ax.set_yticks(np.arange(-.5, N, 1), minor=True)\n",
    "\n",
    "ax.grid(which='minor', color='black', linestyle='-', linewidth=0.8)\n",
    "\n",
    "\n",
    "fig = plt.figure(figsize=(7, 5))\n",
    "plt.subplot(1, 1, 1)\n",
    "ec = plt.imshow(FA[:, :], cmap=\"gray\", vmin=0.5, vmax=1)\n",
    "\n",
    "plt.colorbar(ec)\n",
    "\n",
    "ax = plt.gca()\n",
    "\n",
    "ax.set_xticklabels([])\n",
    "ax.set_yticklabels([])\n",
    "ax.set_xticks([])\n",
    "ax.set_yticks([])\n",
    "\n",
    "ax.set_xticks(np.arange(-.5, N, 1), minor=True)\n",
    "ax.set_yticks(np.arange(-.5, N, 1), minor=True)\n",
    "\n",
    "ax.grid(which='minor', color='black', linestyle='-', linewidth=0.8)"
   ]
  },
  {
   "cell_type": "code",
   "execution_count": 45,
   "metadata": {},
   "outputs": [],
   "source": [
    "sig2 = (1/snr) ** 2  \n",
    "\n",
    "if gaussian:\n",
    "    DWIn = add_noise_phantom(DWI.copy(), snr=snr, noise_type='gaussian')\n",
    "else:\n",
    "    DWIn = add_noise_phantom(DWI.copy(), snr=snr, noise_type='rician')\n",
    "\n",
    "if corrupt == 1:\n",
    "    DWInc = smooth(DWIn, gauss_std)\n",
    "if corrupt == 2:\n",
    "    DWInc = zero_fill(DWIn.copy(), zf)"
   ]
  },
  {
   "cell_type": "code",
   "execution_count": 46,
   "metadata": {},
   "outputs": [
    {
     "name": "stdout",
     "output_type": "stream",
     "text": [
      "103\n"
     ]
    }
   ],
   "source": [
    "# General PCA denoising\n",
    "varp2 = (over_fac**2) * np.mean(np.var(DWInc[..., gtab.b0s_mask], axis=-1, ddof=1))\n",
    "\n",
    "Xdc, ncomps = _pca_matrix(Xc, sig2=varp2)\n",
    "Xdc = Xdc + Mc\n",
    "DWIdc = Xdc.reshape(DWIn.shape)\n",
    "print(ncomps)"
   ]
  },
  {
   "cell_type": "code",
   "execution_count": 47,
   "metadata": {},
   "outputs": [],
   "source": [
    "dkifc = dkim.fit(DWIdc)"
   ]
  },
  {
   "cell_type": "code",
   "execution_count": 48,
   "metadata": {},
   "outputs": [
    {
     "data": {
      "image/png": "[encoded data removed]",
      "text/plain": [
       "<Figure size 504x360 with 2 Axes>"
      ]
     },
     "metadata": {
      "needs_background": "light"
     },
     "output_type": "display_data"
    },
    {
     "data": {
      "image/png": "[encoded data removed]",
      "text/plain": [
       "<Figure size 504x360 with 2 Axes>"
      ]
     },
     "metadata": {
      "needs_background": "light"
     },
     "output_type": "display_data"
    }
   ],
   "source": [
    "# Correlated\n",
    "\n",
    "FA = dkifc.fa\n",
    "MK = dkifc.mk()\n",
    "\n",
    "fig = plt.figure(figsize=(7, 5))\n",
    "plt.subplot(1, 1, 1)\n",
    "ec = plt.imshow(MK[:, :], cmap=\"gray\", vmin=0, vmax=2.25)\n",
    "\n",
    "plt.colorbar(ec)\n",
    "\n",
    "ax = plt.gca()\n",
    "\n",
    "ax.set_xticklabels([])\n",
    "ax.set_yticklabels([])\n",
    "ax.set_xticks([])\n",
    "ax.set_yticks([])\n",
    "\n",
    "ax.set_xticks(np.arange(-.5, N, 1), minor=True)\n",
    "ax.set_yticks(np.arange(-.5, N, 1), minor=True)\n",
    "\n",
    "ax.grid(which='minor', color='black', linestyle='-', linewidth=0.8)\n",
    "\n",
    "\n",
    "fig = plt.figure(figsize=(7, 5))\n",
    "plt.subplot(1, 1, 1)\n",
    "ec = plt.imshow(FA[:, :], cmap=\"gray\", vmin=0.5, vmax=1)\n",
    "\n",
    "plt.colorbar(ec)\n",
    "\n",
    "ax = plt.gca()\n",
    "\n",
    "ax.set_xticklabels([])\n",
    "ax.set_yticklabels([])\n",
    "ax.set_xticks([])\n",
    "ax.set_yticks([])\n",
    "\n",
    "ax.set_xticks(np.arange(-.5, N, 1), minor=True)\n",
    "ax.set_yticks(np.arange(-.5, N, 1), minor=True)\n",
    "\n",
    "ax.grid(which='minor', color='black', linestyle='-', linewidth=0.8)"
   ]
  },
  {
   "cell_type": "code",
   "execution_count": 49,
   "metadata": {},
   "outputs": [
    {
     "data": {
      "image/png": "[encoded data removed]",
      "text/plain": [
       "<Figure size 504x360 with 2 Axes>"
      ]
     },
     "metadata": {
      "needs_background": "light"
     },
     "output_type": "display_data"
    },
    {
     "data": {
      "image/png": "[encoded data removed]",
      "text/plain": [
       "<Figure size 504x360 with 2 Axes>"
      ]
     },
     "metadata": {
      "needs_background": "light"
     },
     "output_type": "display_data"
    }
   ],
   "source": [
    "# Correlated\n",
    "\n",
    "fig = plt.figure(figsize=(7, 5))\n",
    "plt.subplot(1, 1, 1)\n",
    "ec = plt.imshow(MK[:, :]-MKgt_cor[:, :], cmap=\"RdBu_r\", vmin=-.5, vmax=.5)\n",
    "\n",
    "plt.colorbar(ec)\n",
    "\n",
    "ax = plt.gca()\n",
    "\n",
    "ax.set_xticklabels([])\n",
    "ax.set_yticklabels([])\n",
    "ax.set_xticks([])\n",
    "ax.set_yticks([])\n",
    "\n",
    "ax.set_xticks(np.arange(-.5, N, 1), minor=True)\n",
    "ax.set_yticks(np.arange(-.5, N, 1), minor=True)\n",
    "\n",
    "ax.grid(which='minor', color='black', linestyle='-', linewidth=0.8)\n",
    "\n",
    "\n",
    "fig = plt.figure(figsize=(7, 5))\n",
    "plt.subplot(1, 1, 1)\n",
    "ec = plt.imshow(FA[:, :]-FAgt_cor[:, :], cmap=\"RdBu_r\", vmin=-0.1, vmax=0.1)\n",
    "\n",
    "plt.colorbar(ec)\n",
    "\n",
    "ax = plt.gca()\n",
    "\n",
    "ax.set_xticklabels([])\n",
    "ax.set_yticklabels([])\n",
    "ax.set_xticks([])\n",
    "ax.set_yticks([])\n",
    "\n",
    "ax.set_xticks(np.arange(-.5, N, 1), minor=True)\n",
    "ax.set_yticks(np.arange(-.5, N, 1), minor=True)\n",
    "\n",
    "ax.grid(which='minor', color='black', linestyle='-', linewidth=0.8)"
   ]
  },
  {
   "cell_type": "code",
   "execution_count": 50,
   "metadata": {},
   "outputs": [
    {
     "name": "stdout",
     "output_type": "stream",
     "text": [
      "102\n"
     ]
    }
   ],
   "source": [
    "# TPCA denoising\n",
    "Xdc, ncomps = _pca_matrix(Xc, sig2=varp2, tau_factor=1+np.sqrt(n / m))\n",
    "Xdc = Xdc + Mc\n",
    "DWIdc = Xdc.reshape(DWIn.shape)\n",
    "print(ncomps)"
   ]
  },
  {
   "cell_type": "code",
   "execution_count": 51,
   "metadata": {},
   "outputs": [],
   "source": [
    "dkifc = dkim.fit(DWIdc)"
   ]
  },
  {
   "cell_type": "code",
   "execution_count": 52,
   "metadata": {},
   "outputs": [
    {
     "data": {
      "image/png": "[encoded data removed]",
      "text/plain": [
       "<Figure size 504x360 with 2 Axes>"
      ]
     },
     "metadata": {
      "needs_background": "light"
     },
     "output_type": "display_data"
    },
    {
     "data": {
      "image/png": "[encoded data removed]",
      "text/plain": [
       "<Figure size 504x360 with 2 Axes>"
      ]
     },
     "metadata": {
      "needs_background": "light"
     },
     "output_type": "display_data"
    }
   ],
   "source": [
    "# Correlated\n",
    "\n",
    "FA = dkifc.fa\n",
    "MK = dkifc.mk()\n",
    "\n",
    "fig = plt.figure(figsize=(7, 5))\n",
    "plt.subplot(1, 1, 1)\n",
    "ec = plt.imshow(MK[:, :], cmap=\"gray\", vmin=0, vmax=2.25)\n",
    "\n",
    "plt.colorbar(ec)\n",
    "\n",
    "ax = plt.gca()\n",
    "\n",
    "ax.set_xticklabels([])\n",
    "ax.set_yticklabels([])\n",
    "ax.set_xticks([])\n",
    "ax.set_yticks([])\n",
    "\n",
    "ax.set_xticks(np.arange(-.5, N, 1), minor=True)\n",
    "ax.set_yticks(np.arange(-.5, N, 1), minor=True)\n",
    "\n",
    "ax.grid(which='minor', color='black', linestyle='-', linewidth=0.8)\n",
    "\n",
    "\n",
    "fig = plt.figure(figsize=(7, 5))\n",
    "plt.subplot(1, 1, 1)\n",
    "ec = plt.imshow(FA[:, :], cmap=\"gray\", vmin=0.5, vmax=1)\n",
    "\n",
    "plt.colorbar(ec)\n",
    "\n",
    "ax = plt.gca()\n",
    "\n",
    "ax.set_xticklabels([])\n",
    "ax.set_yticklabels([])\n",
    "ax.set_xticks([])\n",
    "ax.set_yticks([])\n",
    "\n",
    "ax.set_xticks(np.arange(-.5, N, 1), minor=True)\n",
    "ax.set_yticks(np.arange(-.5, N, 1), minor=True)\n",
    "\n",
    "ax.grid(which='minor', color='black', linestyle='-', linewidth=0.8)"
   ]
  },
  {
   "cell_type": "code",
   "execution_count": 53,
   "metadata": {},
   "outputs": [
    {
     "data": {
      "image/png": "[encoded data removed]",
      "text/plain": [
       "<Figure size 504x360 with 2 Axes>"
      ]
     },
     "metadata": {
      "needs_background": "light"
     },
     "output_type": "display_data"
    },
    {
     "data": {
      "image/png": "[encoded data removed]",
      "text/plain": [
       "<Figure size 504x360 with 2 Axes>"
      ]
     },
     "metadata": {
      "needs_background": "light"
     },
     "output_type": "display_data"
    }
   ],
   "source": [
    "# Correlated\n",
    "\n",
    "fig = plt.figure(figsize=(7, 5))\n",
    "plt.subplot(1, 1, 1)\n",
    "ec = plt.imshow(MK[:, :]-MKgt_cor[:, :], cmap=\"RdBu_r\", vmin=-.5, vmax=.5)\n",
    "\n",
    "plt.colorbar(ec)\n",
    "\n",
    "ax = plt.gca()\n",
    "\n",
    "ax.set_xticklabels([])\n",
    "ax.set_yticklabels([])\n",
    "ax.set_xticks([])\n",
    "ax.set_yticks([])\n",
    "\n",
    "ax.set_xticks(np.arange(-.5, N, 1), minor=True)\n",
    "ax.set_yticks(np.arange(-.5, N, 1), minor=True)\n",
    "\n",
    "ax.grid(which='minor', color='black', linestyle='-', linewidth=0.8)\n",
    "\n",
    "\n",
    "fig = plt.figure(figsize=(7, 5))\n",
    "plt.subplot(1, 1, 1)\n",
    "ec = plt.imshow(FA[:, :]-FAgt_cor[:, :], cmap=\"RdBu_r\", vmin=-0.1, vmax=0.1)\n",
    "\n",
    "plt.colorbar(ec)\n",
    "\n",
    "ax = plt.gca()\n",
    "\n",
    "ax.set_xticklabels([])\n",
    "ax.set_yticklabels([])\n",
    "ax.set_xticks([])\n",
    "ax.set_yticks([])\n",
    "\n",
    "ax.set_xticks(np.arange(-.5, N, 1), minor=True)\n",
    "ax.set_yticks(np.arange(-.5, N, 1), minor=True)\n",
    "\n",
    "ax.grid(which='minor', color='black', linestyle='-', linewidth=0.8)"
   ]
  },
  {
   "cell_type": "code",
   "execution_count": 54,
   "metadata": {},
   "outputs": [
    {
     "name": "stdout",
     "output_type": "stream",
     "text": [
      "0\n",
      "1\n",
      "2\n",
      "3\n",
      "4\n",
      "5\n",
      "6\n",
      "7\n",
      "8\n",
      "9\n",
      "10\n",
      "11\n",
      "12\n",
      "13\n",
      "14\n",
      "15\n",
      "16\n",
      "17\n",
      "18\n",
      "19\n",
      "20\n",
      "21\n",
      "22\n",
      "23\n",
      "24\n",
      "25\n",
      "26\n",
      "27\n",
      "28\n",
      "29\n",
      "30\n",
      "31\n",
      "32\n",
      "33\n",
      "34\n",
      "35\n",
      "36\n",
      "37\n",
      "38\n",
      "39\n",
      "40\n",
      "41\n",
      "42\n",
      "43\n",
      "44\n",
      "45\n",
      "46\n",
      "47\n",
      "48\n",
      "49\n",
      "50\n",
      "51\n",
      "52\n",
      "53\n",
      "54\n",
      "55\n",
      "56\n",
      "57\n",
      "58\n",
      "59\n",
      "60\n",
      "61\n",
      "62\n",
      "63\n",
      "64\n",
      "65\n",
      "66\n",
      "67\n",
      "68\n",
      "69\n",
      "70\n",
      "71\n",
      "72\n",
      "73\n",
      "74\n",
      "75\n",
      "76\n",
      "77\n",
      "78\n",
      "79\n",
      "80\n",
      "81\n",
      "82\n",
      "83\n",
      "84\n",
      "85\n",
      "86\n",
      "87\n",
      "88\n",
      "89\n",
      "90\n",
      "91\n",
      "92\n",
      "93\n",
      "94\n",
      "95\n",
      "96\n",
      "97\n",
      "98\n",
      "99\n"
     ]
    }
   ],
   "source": [
    "# spatially correlated noise\n",
    "\n",
    "nrep = 100\n",
    "\n",
    "FAraw_e = np.array([])\n",
    "MDraw_e = np.array([])\n",
    "ADraw_e = np.array([])\n",
    "RDraw_e = np.array([])\n",
    "MKraw_e = np.array([])\n",
    "AKraw_e = np.array([])\n",
    "RKraw_e = np.array([])\n",
    "\n",
    "FAmpca_e = np.array([])\n",
    "MDmpca_e = np.array([])\n",
    "ADmpca_e = np.array([])\n",
    "RDmpca_e = np.array([])\n",
    "MKmpca_e = np.array([])\n",
    "AKmpca_e = np.array([])\n",
    "RKmpca_e = np.array([])\n",
    "\n",
    "FAgpca_e = np.array([])\n",
    "MDgpca_e = np.array([])\n",
    "ADgpca_e = np.array([])\n",
    "RDgpca_e = np.array([])\n",
    "MKgpca_e = np.array([])\n",
    "AKgpca_e = np.array([])\n",
    "RKgpca_e = np.array([])\n",
    "\n",
    "FAtpca_e = np.array([])\n",
    "MDtpca_e = np.array([])\n",
    "ADtpca_e = np.array([])\n",
    "RDtpca_e = np.array([])\n",
    "MKtpca_e = np.array([])\n",
    "AKtpca_e = np.array([])\n",
    "RKtpca_e = np.array([])\n",
    "\n",
    "for rep in range(nrep):\n",
    "    if gaussian:\n",
    "        DWIn = add_noise_phantom(DWI.copy(), snr=snr, noise_type='gaussian')\n",
    "    else:\n",
    "        DWIn = add_noise_phantom(DWI.copy(), snr=snr, noise_type='rician')\n",
    "    \n",
    "    if corrupt == 1:\n",
    "        DWIn = smooth(DWIn.copy(), gauss_std)\n",
    "    else:\n",
    "        DWIn = zero_fill(DWIn.copy(), zf)\n",
    "    var_all = (over_fac**2) * np.mean(np.var(DWIn[..., gtab.b0s_mask], axis=-1, ddof=1))\n",
    "\n",
    "    X = DWIn.reshape(m, n)\n",
    "    M = np.mean(X, axis=0)\n",
    "    \n",
    "    # Raw\n",
    "    dki_raw = dkim.fit(X)\n",
    "    FAraw_e = np.append(FAraw_e, dki_raw.fa - FAgt)\n",
    "    MDraw_e = np.append(MDraw_e, dki_raw.md - MDgt)\n",
    "    ADraw_e = np.append(ADraw_e, dki_raw.ad - ADgt)\n",
    "    RDraw_e = np.append(RDraw_e, dki_raw.rd - RDgt)\n",
    "    MKraw_e = np.append(MKraw_e, dki_raw.mk() - MKgt)\n",
    "    AKraw_e = np.append(AKraw_e, dki_raw.ak() - AKgt)\n",
    "    RKraw_e = np.append(RKraw_e, dki_raw.rk() - RKgt)\n",
    "    \n",
    "    X = X - M\n",
    "    \n",
    "    # MPPCA\n",
    "    Xmpca, ncomps = _pca_matrix(X)\n",
    "    Xmpca = Xmpca + M\n",
    "    dki_mpca = dkim.fit(Xmpca)\n",
    "    FAmpca_e = np.append(FAmpca_e, dki_mpca.fa - FAgt)\n",
    "    MDmpca_e = np.append(MDmpca_e, dki_mpca.md - MDgt)\n",
    "    ADmpca_e = np.append(ADmpca_e, dki_mpca.ad - ADgt)\n",
    "    RDmpca_e = np.append(RDmpca_e, dki_mpca.rd - RDgt)\n",
    "    MKmpca_e = np.append(MKmpca_e, dki_mpca.mk() - MKgt)\n",
    "    AKmpca_e = np.append(AKmpca_e, dki_mpca.ak() - AKgt)\n",
    "    RKmpca_e = np.append(RKmpca_e, dki_mpca.rk() - RKgt)\n",
    "    \n",
    "    # GPCA\n",
    "    Xgpca, ncomps = _pca_matrix(X, sig2=var_all)\n",
    "    Xgpca = Xgpca + M\n",
    "    dki_gpca = dkim.fit(Xgpca)\n",
    "    FAgpca_e = np.append(FAgpca_e, dki_gpca.fa - FAgt)\n",
    "    MDgpca_e = np.append(MDgpca_e, dki_gpca.md - MDgt)\n",
    "    ADgpca_e = np.append(ADgpca_e, dki_gpca.ad - ADgt)\n",
    "    RDgpca_e = np.append(RDgpca_e, dki_gpca.rd - RDgt)\n",
    "    MKgpca_e = np.append(MKgpca_e, dki_gpca.mk() - MKgt)\n",
    "    AKgpca_e = np.append(AKgpca_e, dki_gpca.ak() - AKgt)\n",
    "    RKgpca_e = np.append(RKgpca_e, dki_gpca.rk() - RKgt)\n",
    "    \n",
    "    # TPCA\n",
    "    Xtpca, ncomps = _pca_matrix(X, sig2=var_all, tau_factor=1+np.sqrt(n / m))\n",
    "    Xtpca = Xtpca + M\n",
    "    dki_tpca = dkim.fit(Xtpca)\n",
    "    FAtpca_e = np.append(FAtpca_e, dki_tpca.fa - FAgt)\n",
    "    MDtpca_e = np.append(MDtpca_e, dki_tpca.md - MDgt)\n",
    "    ADtpca_e = np.append(ADtpca_e, dki_tpca.ad - ADgt)\n",
    "    RDtpca_e = np.append(RDtpca_e, dki_tpca.rd - RDgt)\n",
    "    MKtpca_e = np.append(MKtpca_e, dki_tpca.mk() - MKgt)\n",
    "    AKtpca_e = np.append(AKtpca_e, dki_tpca.ak() - AKgt)\n",
    "    RKtpca_e = np.append(RKtpca_e, dki_tpca.rk() - RKgt)\n",
    "    \n",
    "    print(rep)\n"
   ]
  },
  {
   "cell_type": "code",
   "execution_count": 55,
   "metadata": {},
   "outputs": [
    {
     "data": {
      "image/png": "[encoded data removed]",
      "text/plain": [
       "<Figure size 1080x216 with 4 Axes>"
      ]
     },
     "metadata": {
      "needs_background": "light"
     },
     "output_type": "display_data"
    }
   ],
   "source": [
    "plt.rcParams.update({'font.size': 15})\n",
    "\n",
    "fig1, ax = plt.subplots(1, 4, figsize=(15, 3))\n",
    "fig1.subplots_adjust(hspace=0.3, wspace=0.15)\n",
    "\n",
    "counts, ed = np.histogram(FAraw_e, bins=50, range=(-0.1, 0.1), density=True)\n",
    "cax0 = ax.flat[0].bar(ed[:-1]+np.diff(ed[:2])/2, counts, width = (0.2)/50, color='grey', alpha=0.7, edgecolor='black', label='measured dist.')\n",
    "\n",
    "counts, ed = np.histogram(FAmpca_e, bins=50, range=(-0.1, 0.1), density=True)\n",
    "cax0 = ax.flat[1].bar(ed[:-1]+np.diff(ed[:2])/2, counts, width = (0.2)/50, color='cyan', alpha=0.7, edgecolor='black', label='measured dist.')\n",
    "\n",
    "counts, ed = np.histogram(FAgpca_e, bins=50, range=(-0.1, 0.1), density=True)\n",
    "cax0 = ax.flat[2].bar(ed[:-1]+np.diff(ed[:2])/2, counts, width = (0.2)/50, color='green', alpha=0.7, edgecolor='black', label='measured dist.')\n",
    "\n",
    "counts, ed = np.histogram(FAtpca_e, bins=50, range=(-0.1, 0.1), density=True)\n",
    "cax0 = ax.flat[3].bar(ed[:-1]+np.diff(ed[:2])/2, counts, width = (0.2)/50, color='orange', alpha=0.7, edgecolor='black', label='measured dist.')"
   ]
  },
  {
   "cell_type": "code",
   "execution_count": 56,
   "metadata": {},
   "outputs": [
    {
     "data": {
      "image/png": "[encoded data removed]",
      "text/plain": [
       "<Figure size 1080x216 with 4 Axes>"
      ]
     },
     "metadata": {
      "needs_background": "light"
     },
     "output_type": "display_data"
    }
   ],
   "source": [
    "plt.rcParams.update({'font.size': 15})\n",
    "\n",
    "fig1, ax = plt.subplots(1, 4, figsize=(15, 3))\n",
    "fig1.subplots_adjust(hspace=0.3, wspace=0.15)\n",
    "\n",
    "counts, ed = np.histogram(MKraw_e, bins=50, range=(-0.5, 0.5), density=True)\n",
    "cax0 = ax.flat[0].bar(ed[:-1]+np.diff(ed[:2])/2, counts, width = 1/50, color='grey', alpha=0.7, edgecolor='black', label='measured dist.')\n",
    "\n",
    "counts, ed = np.histogram(MKmpca_e, bins=50, range=(-0.5, 0.5), density=True)\n",
    "cax0 = ax.flat[1].bar(ed[:-1]+np.diff(ed[:2])/2, counts, width = 1/50, color='cyan', alpha=0.7, edgecolor='black', label='measured dist.')\n",
    "\n",
    "counts, ed = np.histogram(MKgpca_e, bins=50, range=(-0.5, 0.5), density=True)\n",
    "cax0 = ax.flat[2].bar(ed[:-1]+np.diff(ed[:2])/2, counts, width = 1/50, color='green', alpha=0.7, edgecolor='black', label='measured dist.')\n",
    "\n",
    "counts, ed = np.histogram(MKtpca_e, bins=50, range=(-0.5, 0.5), density=True)\n",
    "cax0 = ax.flat[3].bar(ed[:-1]+np.diff(ed[:2])/2, counts, width = 1/50, color='orange', alpha=0.7, edgecolor='black', label='measured dist.')"
   ]
  },
  {
   "cell_type": "code",
   "execution_count": 57,
   "metadata": {},
   "outputs": [],
   "source": [
    "RMSEfa_raw = np.sqrt(np.mean(FAraw_e ** 2))\n",
    "RMSEmd_raw = np.sqrt(np.mean(MDraw_e ** 2)) * 1000\n",
    "RMSErd_raw = np.sqrt(np.mean(RDraw_e ** 2)) * 1000\n",
    "RMSEad_raw = np.sqrt(np.mean(ADraw_e ** 2)) * 1000\n",
    "RMSEmk_raw = np.sqrt(np.mean(MKraw_e ** 2))\n",
    "RMSErk_raw = np.sqrt(np.mean(RKraw_e ** 2))\n",
    "RMSEak_raw = np.sqrt(np.mean(AKraw_e ** 2))\n",
    "\n",
    "RMSEfa_mpca = np.sqrt(np.mean(FAmpca_e ** 2))\n",
    "RMSEmd_mpca = np.sqrt(np.mean(MDmpca_e ** 2)) * 1000\n",
    "RMSErd_mpca = np.sqrt(np.mean(RDmpca_e ** 2)) * 1000\n",
    "RMSEad_mpca = np.sqrt(np.mean(ADmpca_e ** 2)) * 1000\n",
    "RMSEmk_mpca = np.sqrt(np.mean(MKmpca_e ** 2))\n",
    "RMSErk_mpca = np.sqrt(np.mean(RKmpca_e ** 2))\n",
    "RMSEak_mpca = np.sqrt(np.mean(AKmpca_e ** 2))\n",
    "\n",
    "RMSEfa_gpca = np.sqrt(np.mean(FAgpca_e ** 2))\n",
    "RMSEmd_gpca = np.sqrt(np.mean(MDgpca_e ** 2)) * 1000\n",
    "RMSErd_gpca = np.sqrt(np.mean(RDgpca_e ** 2)) * 1000\n",
    "RMSEad_gpca = np.sqrt(np.mean(ADgpca_e ** 2)) * 1000\n",
    "RMSEmk_gpca = np.sqrt(np.mean(MKgpca_e ** 2))\n",
    "RMSErk_gpca = np.sqrt(np.mean(RKgpca_e ** 2))\n",
    "RMSEak_gpca = np.sqrt(np.mean(AKgpca_e ** 2))\n",
    "    \n",
    "RMSEfa_tpca = np.sqrt(np.mean(FAtpca_e ** 2))\n",
    "RMSEmd_tpca = np.sqrt(np.mean(MDtpca_e ** 2)) * 1000\n",
    "RMSErd_tpca = np.sqrt(np.mean(RDtpca_e ** 2)) * 1000\n",
    "RMSEad_tpca = np.sqrt(np.mean(ADtpca_e ** 2)) * 1000\n",
    "RMSEmk_tpca = np.sqrt(np.mean(MKtpca_e ** 2))\n",
    "RMSErk_tpca = np.sqrt(np.mean(RKtpca_e ** 2))\n",
    "RMSEak_tpca = np.sqrt(np.mean(AKtpca_e ** 2))"
   ]
  },
  {
   "cell_type": "code",
   "execution_count": 58,
   "metadata": {},
   "outputs": [
    {
     "name": "stdout",
     "output_type": "stream",
     "text": [
      "Raw\n",
      "0.015202157619062573\n",
      "0.017208279595716133\n",
      "0.014886687414942859\n",
      "0.05206054732969379\n",
      "0.2832650281585426\n",
      "1.3390956907387426\n",
      "0.05206054732969379\n",
      " \n",
      "MPPCA\n",
      "0.014497970270317278\n",
      "0.016136286690793197\n",
      "0.013978955436652847\n",
      "0.0496297487269125\n",
      "0.2659512073175451\n",
      "1.2635779436314267\n",
      "0.0496297487269125\n",
      " \n",
      "GPCA\n",
      "0.02621309272370653\n",
      "0.01274792963406184\n",
      "0.019524152251651345\n",
      "0.06038199069433822\n",
      "0.2892304781710175\n",
      "1.3675241083258352\n",
      "0.06038199069433822\n",
      " \n",
      "TPCA\n",
      "0.01156274534552246\n",
      "0.01001263346227007\n",
      "0.009259306354042112\n",
      "0.03820063021806656\n",
      "0.1161085528704393\n",
      "0.6035408421636391\n",
      "0.03820063021806656\n"
     ]
    }
   ],
   "source": [
    "print('Raw')\n",
    "print(RMSEfa_raw)\n",
    "print(RMSEmd_raw)\n",
    "print(RMSErd_raw)\n",
    "print(RMSEad_raw)\n",
    "print(RMSEmk_raw)\n",
    "print(RMSErk_raw)\n",
    "print(RMSEad_raw)\n",
    "print(' ')\n",
    "print('MPPCA')\n",
    "print(RMSEfa_mpca)\n",
    "print(RMSEmd_mpca)\n",
    "print(RMSErd_mpca)\n",
    "print(RMSEad_mpca)\n",
    "print(RMSEmk_mpca)\n",
    "print(RMSErk_mpca)\n",
    "print(RMSEad_mpca)\n",
    "print(' ')\n",
    "print('GPCA')\n",
    "print(RMSEfa_gpca)\n",
    "print(RMSEmd_gpca)\n",
    "print(RMSErd_gpca)\n",
    "print(RMSEad_gpca)\n",
    "print(RMSEmk_gpca)\n",
    "print(RMSErk_gpca)\n",
    "print(RMSEad_gpca)\n",
    "print(' ')\n",
    "print('TPCA')\n",
    "print(RMSEfa_tpca)\n",
    "print(RMSEmd_tpca)\n",
    "print(RMSErd_tpca)\n",
    "print(RMSEad_tpca)\n",
    "print(RMSEmk_tpca)\n",
    "print(RMSErk_tpca)\n",
    "print(RMSEad_tpca)"
   ]
  },
  {
   "cell_type": "code",
   "execution_count": null,
   "metadata": {},
   "outputs": [],
   "source": []
  }
 ],
 "metadata": {
  "kernelspec": {
   "display_name": "Python 3",
   "language": "python",
   "name": "python3"
  },
  "language_info": {
   "codemirror_mode": {
    "name": "ipython",
    "version": 3
   },
   "file_extension": ".py",
   "mimetype": "text/x-python",
   "name": "python",
   "nbconvert_exporter": "python",
   "pygments_lexer": "ipython3",
   "version": "3.8.5"
  }
 },
 "nbformat": 4,
 "nbformat_minor": 4
}
